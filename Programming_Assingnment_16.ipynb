{
 "cells": [
  {
   "cell_type": "markdown",
   "id": "4c5790e2",
   "metadata": {},
   "source": [
    "### Question1. Write a function that stutters a word as if someone is struggling to read it. The first two letters are repeated twice with an ellipsis ... and space after each, and then the word is pronounced with a question mark ?.\n",
    "### Examples\n",
    "### stutter(\"incredible\") ➞ \"in... in... incredible?\"\n",
    "\n",
    "### stutter(\"enthusiastic\") ➞ \"en... en... enthusiastic?\"\n",
    "\n",
    "### stutter(\"outstanding\") ➞ \"ou... ou... outstanding?\"\n",
    "\n",
    "### Hint :- Assume all input is in lower case and at least two characters long.\n"
   ]
  },
  {
   "cell_type": "code",
   "execution_count": 9,
   "id": "6a2c243c",
   "metadata": {},
   "outputs": [
    {
     "name": "stdout",
     "output_type": "stream",
     "text": [
      "in... in... incredible?\n",
      "en... en... enthusiastic?\n",
      "ou... ou... outstanding?\n"
     ]
    }
   ],
   "source": [
    "def stutter(word):\n",
    "    first_two_letters = word[:2]\n",
    "    return first_two_letters + \"... \" + first_two_letters + \"... \" + word + \"?\"\n",
    "\n",
    "print(stutter(\"incredible\")) \n",
    "print(stutter(\"enthusiastic\")) \n",
    "print(stutter(\"outstanding\")) "
   ]
  },
  {
   "cell_type": "markdown",
   "id": "dcb073b5",
   "metadata": {},
   "source": [
    "### Question 2.Create a function that takes an angle in radians and returns the corresponding angle in degrees rounded to one decimal place.\n",
    "### Examples\n",
    "### radians_to_degrees(1) ➞ 57.3\n",
    "\n",
    "### radians_to_degrees(20) ➞ 1145.9\n",
    "\n",
    "### radians_to_degrees(50) ➞ 2864.8\n"
   ]
  },
  {
   "cell_type": "code",
   "execution_count": 8,
   "id": "d7eb373f",
   "metadata": {},
   "outputs": [
    {
     "name": "stdout",
     "output_type": "stream",
     "text": [
      "57.3\n",
      "1145.9\n",
      "2864.8\n"
     ]
    }
   ],
   "source": [
    "import math\n",
    "\n",
    "def radians_to_degrees(radians):\n",
    "    return round(math.degrees(radians), 1)\n",
    "\n",
    "print(radians_to_degrees(1)) \n",
    "print(radians_to_degrees(20)) \n",
    "print(radians_to_degrees(50))"
   ]
  },
  {
   "cell_type": "markdown",
   "id": "7482c2a9",
   "metadata": {},
   "source": [
    "### Question 3. In this challenge, establish if a given integer num is a Curzon number. If 1 plus 2 elevated to num is exactly divisible by 1 plus 2 multiplied by num, then num is a Curzon number.\n",
    "### Given a non-negative integer num, implement a function that returns True if num is a Curzon number, or False otherwise.\n",
    "### Examples\n",
    "### is_curzon(5) ➞ True\n",
    "### 2 ** 5 + 1 = 33\n",
    "### 2 * 5 + 1 = 11\n",
    "### 33 is a multiple of 11\n",
    "\n",
    "### is_curzon(10) ➞ False\n",
    "### 2 ** 10 + 1 = 1025\n",
    "### 2 * 10 + 1 = 21\n",
    "### 1025 is not a multiple of 21\n",
    "\n",
    "### is_curzon(14) ➞ True\n",
    "### 2 ** 14 + 1 = 16385\n",
    "### 2 * 14 + 1 = 29\n",
    "### 16385 is a multiple of 29\n"
   ]
  },
  {
   "cell_type": "code",
   "execution_count": 7,
   "id": "934b250e",
   "metadata": {},
   "outputs": [
    {
     "name": "stdout",
     "output_type": "stream",
     "text": [
      "True\n",
      "False\n",
      "True\n"
     ]
    }
   ],
   "source": [
    "def is_curzon(num):\n",
    "    if num < 0:\n",
    "        return False\n",
    "\n",
    "    if (2**num + 1) % (2*num + 1) == 0:\n",
    "        return True\n",
    "    return False\n",
    "\n",
    "print(is_curzon(5)) \n",
    "print(is_curzon(10)) \n",
    "print(is_curzon(14)) "
   ]
  },
  {
   "cell_type": "markdown",
   "id": "a1da1db9",
   "metadata": {},
   "source": [
    "### Question 4.Given the side length x find the area of a hexagon.\n",
    " \n",
    "### Examples\n",
    "### area_of_hexagon(1) ➞ 2.6\n",
    "\n",
    "### area_of_hexagon(2) ➞ 10.4\n",
    "\n",
    "### area_of_hexagon(3) ➞ 23.4\n",
    "\n"
   ]
  },
  {
   "cell_type": "code",
   "execution_count": 20,
   "id": "39ac7299",
   "metadata": {},
   "outputs": [],
   "source": [
    "def area_of_hexagon(a):\n",
    "    area=(3*(3**(1/2))*(a**2))/2\n",
    "    return round(area,1)"
   ]
  },
  {
   "cell_type": "code",
   "execution_count": 25,
   "id": "6f6a3c0c",
   "metadata": {},
   "outputs": [
    {
     "data": {
      "text/plain": [
       "2.6"
      ]
     },
     "execution_count": 25,
     "metadata": {},
     "output_type": "execute_result"
    }
   ],
   "source": [
    "area_of_hexagon(1)"
   ]
  },
  {
   "cell_type": "code",
   "execution_count": 26,
   "id": "1569d0f7",
   "metadata": {},
   "outputs": [
    {
     "data": {
      "text/plain": [
       "10.4"
      ]
     },
     "execution_count": 26,
     "metadata": {},
     "output_type": "execute_result"
    }
   ],
   "source": [
    "area_of_hexagon(2)"
   ]
  },
  {
   "cell_type": "code",
   "execution_count": 27,
   "id": "aafadee3",
   "metadata": {},
   "outputs": [
    {
     "data": {
      "text/plain": [
       "23.4"
      ]
     },
     "execution_count": 27,
     "metadata": {},
     "output_type": "execute_result"
    }
   ],
   "source": [
    "area_of_hexagon(3)"
   ]
  },
  {
   "cell_type": "markdown",
   "id": "262a285c",
   "metadata": {},
   "source": [
    "### Question 5. Create a function that returns a base-2 (binary) representation of a base-10 (decimal) string number. To convert is simple: ((2) means base-2 and (10) means base-10) 010101001(2) = 1 + 8 + 32 + 128.\n",
    "### Going from right to left, the value of the most right bit is 1, now from that every bit to the left will be x2 the value, value of an 8 bit binary numbers are (256, 128, 64, 32, 16, 8, 4, 2, 1).\n",
    "### Examples\n",
    "### binary(1) ➞ \"1\"\n",
    "### 1*1 = 1\n",
    "\n",
    "### binary(5) ➞ \"101\"\n",
    "### 1*1 + 1*4 = 5\n",
    "\n",
    "### binary(10) ➞ \"1010\"\n",
    "### 1*2 + 1*8 = 10\n"
   ]
  },
  {
   "cell_type": "code",
   "execution_count": 36,
   "id": "696b10cf",
   "metadata": {},
   "outputs": [],
   "source": [
    "def binary(n):\n",
    "    \n",
    "    k=\"\"\n",
    "    while n>=1:\n",
    "        if n%2==1:\n",
    "            k+=\"1\"\n",
    "            n=(n/2-.5)\n",
    "            binary(n)\n",
    "        elif n%2==0:\n",
    "            k+=\"0\"\n",
    "            n=(n/2)\n",
    "            binary(n)\n",
    "    return k[::-1]\n",
    "\n",
    "\n",
    "def binaryTodecimal(n):\n",
    "    decimal = 0\n",
    "    power = 1\n",
    "    while n>0:\n",
    "        rem = n%10\n",
    "        n = n//10\n",
    "        decimal += rem*power\n",
    "        power = power*2\n",
    "        \n",
    "    return decimal\n",
    "    "
   ]
  },
  {
   "cell_type": "code",
   "execution_count": 33,
   "id": "f43987fa",
   "metadata": {},
   "outputs": [
    {
     "data": {
      "text/plain": [
       "'1'"
      ]
     },
     "execution_count": 33,
     "metadata": {},
     "output_type": "execute_result"
    }
   ],
   "source": [
    "binary(1)"
   ]
  },
  {
   "cell_type": "code",
   "execution_count": 34,
   "id": "0177d021",
   "metadata": {},
   "outputs": [
    {
     "data": {
      "text/plain": [
       "'101'"
      ]
     },
     "execution_count": 34,
     "metadata": {},
     "output_type": "execute_result"
    }
   ],
   "source": [
    "binary(5)"
   ]
  },
  {
   "cell_type": "code",
   "execution_count": 35,
   "id": "fc9b8432",
   "metadata": {},
   "outputs": [
    {
     "data": {
      "text/plain": [
       "'1010'"
      ]
     },
     "execution_count": 35,
     "metadata": {},
     "output_type": "execute_result"
    }
   ],
   "source": [
    "binary(10)"
   ]
  },
  {
   "cell_type": "code",
   "execution_count": 37,
   "id": "4e73ce25",
   "metadata": {},
   "outputs": [
    {
     "data": {
      "text/plain": [
       "1"
      ]
     },
     "execution_count": 37,
     "metadata": {},
     "output_type": "execute_result"
    }
   ],
   "source": [
    "binaryTodecimal(1)"
   ]
  },
  {
   "cell_type": "code",
   "execution_count": 38,
   "id": "293d02e9",
   "metadata": {},
   "outputs": [
    {
     "data": {
      "text/plain": [
       "5"
      ]
     },
     "execution_count": 38,
     "metadata": {},
     "output_type": "execute_result"
    }
   ],
   "source": [
    "binaryTodecimal(101)"
   ]
  },
  {
   "cell_type": "code",
   "execution_count": 39,
   "id": "59602f19",
   "metadata": {},
   "outputs": [
    {
     "data": {
      "text/plain": [
       "10"
      ]
     },
     "execution_count": 39,
     "metadata": {},
     "output_type": "execute_result"
    }
   ],
   "source": [
    "binaryTodecimal(1010)"
   ]
  },
  {
   "cell_type": "code",
   "execution_count": null,
   "id": "07234180",
   "metadata": {},
   "outputs": [],
   "source": []
  }
 ],
 "metadata": {
  "kernelspec": {
   "display_name": "Python 3 (ipykernel)",
   "language": "python",
   "name": "python3"
  },
  "language_info": {
   "codemirror_mode": {
    "name": "ipython",
    "version": 3
   },
   "file_extension": ".py",
   "mimetype": "text/x-python",
   "name": "python",
   "nbconvert_exporter": "python",
   "pygments_lexer": "ipython3",
   "version": "3.9.13"
  }
 },
 "nbformat": 4,
 "nbformat_minor": 5
}
