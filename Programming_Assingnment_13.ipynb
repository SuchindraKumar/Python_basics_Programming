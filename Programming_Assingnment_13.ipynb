{
 "cells": [
  {
   "cell_type": "markdown",
   "id": "1d16c1d3",
   "metadata": {},
   "source": [
    "### Question 1:\n",
    "\n",
    "### Write a program that calculates and prints the value according to the given formula:\n",
    "\n",
    "### Q = Square root of [(2 * C * D)/H]\n",
    "\n",
    "### Following are the fixed values of C and H:\n",
    "\n",
    "### C is 50. H is 30.\n",
    "\n",
    "### D is the variable whose values should be input to your program in a comma-separated sequence.\n",
    "\n",
    "### Example\n",
    "\n",
    "### Let us assume the following comma separated input sequence is given to the program:\n",
    "\n",
    "### 100,150,180\n",
    "\n",
    "### The output of the program should be:\n",
    "\n",
    "### 18,22,24\n"
   ]
  },
  {
   "cell_type": "code",
   "execution_count": 1,
   "id": "50ead6e8",
   "metadata": {},
   "outputs": [
    {
     "name": "stdout",
     "output_type": "stream",
     "text": [
      "100,150,180\n",
      "18,22,24\n"
     ]
    }
   ],
   "source": [
    "import math\n",
    "c=50\n",
    "h=30\n",
    "value = []\n",
    "items=[x for x in input().split(',')]\n",
    "for d in items:\n",
    "    value.append(str(int(round(math.sqrt(2*c*float(d)/h)))))\n",
    "\n",
    "print(','.join(value))"
   ]
  },
  {
   "cell_type": "markdown",
   "id": "6398148f",
   "metadata": {},
   "source": [
    "### Question 2:\n",
    "### Write a program which takes 2 digits, X,Y as input and generates a 2-dimensional array. The element value in the i-th row and j-th column of the array should be i*j.\n",
    "\n",
    "### Note: i=0,1.., X-1; j=0,1,¡¬Y-1.\n",
    "\n",
    "### Example\n",
    "\n",
    "### Suppose the following inputs are given to the program:\n",
    "\n",
    "### 3,5\n",
    "\n",
    "### Then, the output of the program should be:\n",
    "\n",
    "### [[0, 0, 0, 0, 0], [0, 1, 2, 3, 4], [0, 2, 4, 6, 8]] \n",
    "\n"
   ]
  },
  {
   "cell_type": "code",
   "execution_count": 6,
   "id": "ddbb41ee",
   "metadata": {},
   "outputs": [
    {
     "name": "stdout",
     "output_type": "stream",
     "text": [
      "3,5\n",
      "[[0, 0, 0, 0, 0], [0, 1, 2, 3, 4], [0, 2, 4, 6, 8]]\n"
     ]
    }
   ],
   "source": [
    "input_str = input()\n",
    "dimensions=[int(x) for x in input_str.split(',')]\n",
    "rowNum=dimensions[0]\n",
    "colNum=dimensions[1]\n",
    "multilist = [[0 for col in range(colNum)] for row in range(rowNum)]\n",
    "\n",
    "for row in range(rowNum):\n",
    "    for col in range(colNum):\n",
    "        multilist[row][col]= row*col\n",
    "\n",
    "print(multilist)"
   ]
  },
  {
   "cell_type": "markdown",
   "id": "1d3cbb9a",
   "metadata": {},
   "source": [
    "### Question 3:\n",
    "### Write a program that accepts a comma separated sequence of words as input and prints the words in a comma-separated sequence after sorting them alphabetically.\n",
    "\n",
    "### Suppose the following input is supplied to the program:\n",
    "\n",
    "### without,hello,bag,world\n",
    "\n",
    "### Then, the output should be:\n",
    "\n",
    "### bag,hello,without,world\n"
   ]
  },
  {
   "cell_type": "code",
   "execution_count": 8,
   "id": "5f5f729c",
   "metadata": {},
   "outputs": [
    {
     "name": "stdout",
     "output_type": "stream",
     "text": [
      "Input words: without,hello,bag,world\n",
      "bag, hello, without, world\n"
     ]
    }
   ],
   "source": [
    "phrase = input(\"Input words: \")\n",
    "\n",
    "phrase_list = phrase.split(\",\")\n",
    "phrase_list.sort()\n",
    "print((', ').join(phrase_list))"
   ]
  },
  {
   "cell_type": "markdown",
   "id": "79eac207",
   "metadata": {},
   "source": [
    "### Question 4:\n",
    "### Write a program that accepts a sequence of whitespace separated words as input and prints the words after removing all duplicate words and sorting them alphanumerically.\n",
    "\n",
    "### Suppose the following input is supplied to the program:\n",
    "\n",
    "### hello world and practice makes perfect and hello world again\n",
    "\n",
    "### Then, the output should be:\n",
    "\n",
    "### again and hello makes perfect practice world\n"
   ]
  },
  {
   "cell_type": "code",
   "execution_count": 9,
   "id": "6fdb29e4",
   "metadata": {},
   "outputs": [
    {
     "name": "stdout",
     "output_type": "stream",
     "text": [
      "hello world and practice makes perfect and hello world again\n",
      "again and hello makes perfect practice world\n"
     ]
    }
   ],
   "source": [
    "s = input()\n",
    "words = [word for word in s.split(\" \")]\n",
    "print(\" \".join(sorted(list(set(words)))))"
   ]
  },
  {
   "cell_type": "markdown",
   "id": "bf91a9c1",
   "metadata": {},
   "source": [
    "### Question 5:\n",
    "### Write a program that accepts a sentence and calculate the number of letters and digits.\n",
    "\n",
    "### Suppose the following input is supplied to the program:\n",
    "\n",
    "### hello world! 123\n",
    "\n",
    "### Then, the output should be:\n",
    "\n",
    "### LETTERS 10\n",
    "\n",
    "### DIGITS 3\n"
   ]
  },
  {
   "cell_type": "code",
   "execution_count": 10,
   "id": "9597e87e",
   "metadata": {},
   "outputs": [
    {
     "name": "stdout",
     "output_type": "stream",
     "text": [
      "Number of Digit is 6\n",
      "Number of Alphabets is 10\n"
     ]
    }
   ],
   "source": [
    "alpha,string=0,\"hello world! 123\"\n",
    "for i in string:\n",
    "    if (i.isalpha()):\n",
    "        alpha+=1\n",
    "print(\"Number of Digit is\", len(string)-alpha)\n",
    "print(\"Number of Alphabets is\", alpha)"
   ]
  },
  {
   "cell_type": "markdown",
   "id": "927dd2c1",
   "metadata": {},
   "source": [
    "### Question 6:\n",
    "### A website requires the users to input username and password to register. Write a program to check the validity of password input by users.\n",
    "\n",
    "### Following are the criteria for checking the password:\n",
    "\n",
    "### 1. At least 1 letter between [a-z]\n",
    "\n",
    "### 2. At least 1 number between [0-9]\n",
    "\n",
    "### 1. At least 1 letter between [A-Z]\n",
    "\n",
    "###    3. At least 1 character from [$#@]\n",
    "\n",
    "### 4. Minimum length of transaction password: 6\n",
    "\n",
    "### 5. Maximum length of transaction password: 12\n",
    "\n",
    "### Your program should accept a sequence of comma separated passwords and will check them according to the above criteria. Passwords that match the criteria are to be printed, each separated by a comma.\n",
    "\n",
    "### Example\n",
    "\n",
    "### If the following passwords are given as input to the program:\n",
    "\n",
    "### ABd1234@1,a F1#,2w3E*,2We3345\n",
    "\n",
    "### Then, the output of the program should be:\n",
    "\n",
    "### ABd1234@1\n"
   ]
  },
  {
   "cell_type": "code",
   "execution_count": 12,
   "id": "e822a7a9",
   "metadata": {},
   "outputs": [
    {
     "name": "stdout",
     "output_type": "stream",
     "text": [
      "Please enter a series of passwords to check, separated by a comma: ABd1234@1,a F1#,2w3E*,2We3345\n",
      "ABd1234@1\n"
     ]
    }
   ],
   "source": [
    "def validity_check(pword):\n",
    "    return \\\n",
    "    (any(i.islower() for i in pword)) and \\\n",
    "    (any(i.isnumeric() for i in pword)) and \\\n",
    "    (any(i.isupper() for i in pword)) and \\\n",
    "    (any((i == \"$\" or i == \"#\" or i == \"@\") for i in pword)) and \\\n",
    "    (6 <= len(pword) < 13)\n",
    "\n",
    "raw_input = input(\"Please enter a series of passwords to check, separated by a comma: \")\n",
    "raw_list = raw_input.split(\",\")\n",
    "valid_pwords = []\n",
    "for i in raw_list:\n",
    "    if validity_check(i) == True:\n",
    "        valid_pwords.append(i)\n",
    "print(\",\".join(valid_pwords))"
   ]
  },
  {
   "cell_type": "code",
   "execution_count": null,
   "id": "6ecc3774",
   "metadata": {},
   "outputs": [],
   "source": []
  }
 ],
 "metadata": {
  "kernelspec": {
   "display_name": "Python 3 (ipykernel)",
   "language": "python",
   "name": "python3"
  },
  "language_info": {
   "codemirror_mode": {
    "name": "ipython",
    "version": 3
   },
   "file_extension": ".py",
   "mimetype": "text/x-python",
   "name": "python",
   "nbconvert_exporter": "python",
   "pygments_lexer": "ipython3",
   "version": "3.9.13"
  }
 },
 "nbformat": 4,
 "nbformat_minor": 5
}
