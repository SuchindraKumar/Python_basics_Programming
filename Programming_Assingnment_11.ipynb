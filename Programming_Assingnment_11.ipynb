{
 "cells": [
  {
   "cell_type": "markdown",
   "id": "b5618aff",
   "metadata": {},
   "source": [
    "### 1.\tWrite a Python program to find words which are greater than given length k?"
   ]
  },
  {
   "cell_type": "code",
   "execution_count": 3,
   "id": "701c63e3",
   "metadata": {},
   "outputs": [
    {
     "name": "stdout",
     "output_type": "stream",
     "text": [
      "Enter the string : hello how are you\n",
      "Enter k  (value for accepting string) : 4\n",
      "All words which are greater than given length  4 are  ['hello']\n"
     ]
    }
   ],
   "source": [
    "myStr =  input('Enter the string : ')\n",
    "k = int(input('Enter k  (value for accepting string) : '))\n",
    "largerStrings = []\n",
    "\n",
    "# Finding words with length greater than k\n",
    "words = myStr.split(\" \")\n",
    "for word in words:\n",
    "    if len(word) > k:\n",
    "        largerStrings.append(word)\n",
    "\n",
    "# printing values\n",
    "print(\"All words which are greater than given length \", k, \"are \", largerStrings)"
   ]
  },
  {
   "cell_type": "markdown",
   "id": "ecbecdd8",
   "metadata": {},
   "source": [
    "### 2.\tWrite a Python program for removing i-th character from a string?"
   ]
  },
  {
   "cell_type": "code",
   "execution_count": null,
   "id": "bade266c",
   "metadata": {},
   "outputs": [],
   "source": [
    "string = input(\"Enter a string: \")\n",
    "index = int(input(\"Enter the index of the character to remove: \"))\n",
    "\n",
    "new_string = string[:index] + string[index+1:]\n",
    "\n",
    "print(\"The new string is: \", new_string)"
   ]
  },
  {
   "cell_type": "markdown",
   "id": "ce40de7a",
   "metadata": {},
   "source": [
    "### 3.\tWrite a Python program to split and join a string?"
   ]
  },
  {
   "cell_type": "code",
   "execution_count": 4,
   "id": "0690b866",
   "metadata": {},
   "outputs": [
    {
     "name": "stdout",
     "output_type": "stream",
     "text": [
      "['hello', 'how', 'are', 'you']\n",
      "hello how are you\n"
     ]
    }
   ],
   "source": [
    "my_string = \"hello how are you\"\n",
    "\n",
    "# split the string\n",
    "words = my_string.split()\n",
    "\n",
    "# join the string\n",
    "joined_string = \" \".join(words)\n",
    "\n",
    "print(words) # Print split the string\n",
    "\n",
    "print(joined_string) # Print join the string "
   ]
  },
  {
   "cell_type": "markdown",
   "id": "36f5129e",
   "metadata": {},
   "source": [
    "### 4.\tWrite a Python to check if a given string is binary string or not?"
   ]
  },
  {
   "cell_type": "code",
   "execution_count": 12,
   "id": "e6788407",
   "metadata": {},
   "outputs": [
    {
     "name": "stdout",
     "output_type": "stream",
     "text": [
      "Enter the string  : 10101\n",
      "The string is binary\n"
     ]
    }
   ],
   "source": [
    "def is_binary(string):\n",
    "    # convert string to a set\n",
    "    s = set(string)\n",
    "\n",
    "    # check if the set only consists of 0 and 1\n",
    "    if s == {'0', '1'}:\n",
    "        return True\n",
    "    else:\n",
    "        return False\n",
    "\n",
    "\n",
    "# test the function\n",
    "test_string = (input(\"Enter the string  : \"))\n",
    "\n",
    "if is_binary(test_string):\n",
    "    print(\"The string is binary\")\n",
    "else:\n",
    "    print(\"The string is not binary\")"
   ]
  },
  {
   "cell_type": "markdown",
   "id": "ec914517",
   "metadata": {},
   "source": [
    "### 5.\tWrite a Python program to find uncommon words from two Strings?"
   ]
  },
  {
   "cell_type": "code",
   "execution_count": 17,
   "id": "c5b57cb4",
   "metadata": {},
   "outputs": [
    {
     "name": "stdout",
     "output_type": "stream",
     "text": [
      "The Uncommon Words from Two Input Strings is - ['suchindra', 'I', 'Hi', 'am', 'kumar']\n"
     ]
    }
   ],
   "source": [
    "def uncommon_words(str1, str2):\n",
    "    # convert strings to sets\n",
    "    s1 = set(str1.split())\n",
    "    s2 = set(str2.split())\n",
    "\n",
    "    # find the uncommon words\n",
    "    uncommon_words_set = s1.difference(s2) | s2.difference(s1)\n",
    "\n",
    "    # convert the set to a list and return\n",
    "    return list(uncommon_words_set)\n",
    "\n",
    "\n",
    "# test the function\n",
    "str1 = \"Hi I am suchindra kumar here only\"\n",
    "str2 = \"here only\"\n",
    "\n",
    "uncommon_words_list = uncommon_words(str1, str2)\n",
    "\n",
    "print(\"The Uncommon Words from Two Input Strings is -\", uncommon_words_list)"
   ]
  },
  {
   "cell_type": "markdown",
   "id": "9908cc8f",
   "metadata": {},
   "source": [
    "### 6.\tWrite a Python to find all duplicate characters in string?"
   ]
  },
  {
   "cell_type": "code",
   "execution_count": 2,
   "id": "8a5d4fc1",
   "metadata": {},
   "outputs": [
    {
     "name": "stdout",
     "output_type": "stream",
     "text": [
      "['p', 'o']\n"
     ]
    }
   ],
   "source": [
    "def find_duplicates(s):\n",
    "    elements = {}\n",
    "    for char in s:\n",
    "        if elements.get(char,None) != None:\n",
    "            elements[char]+=1\n",
    "        else:\n",
    "            elements[char] = 1\n",
    "    return [k for k,v in elements.items() if v>1]\n",
    "\n",
    "\n",
    "print(find_duplicates(\"Hippopotamus\"))\n"
   ]
  },
  {
   "cell_type": "markdown",
   "id": "ce93dfd7",
   "metadata": {},
   "source": [
    "### 7.\tWrite a Python Program to check if a string contains any special character?"
   ]
  },
  {
   "cell_type": "code",
   "execution_count": 3,
   "id": "e4adee1b",
   "metadata": {},
   "outputs": [
    {
     "name": "stdout",
     "output_type": "stream",
     "text": [
      "Enter any string: hello ! how /are * you$\n",
      "The string contains special characters.\n"
     ]
    }
   ],
   "source": [
    "# import required package\n",
    "import re\n",
    "\n",
    "# take inputs\n",
    "string = input('Enter any string: ')\n",
    " \n",
    "# special characters\n",
    "special_char = re.compile('[@_!#$%^&*()<>?/\\|}{~:]')\n",
    "\n",
    "# check string contains special characters or not\n",
    "if(special_char.search(string) == None):\n",
    "    print('String does not contain any special characters.')\n",
    "else:\n",
    "    print('The string contains special characters.')"
   ]
  },
  {
   "cell_type": "code",
   "execution_count": null,
   "id": "87ca6928",
   "metadata": {},
   "outputs": [],
   "source": []
  }
 ],
 "metadata": {
  "kernelspec": {
   "display_name": "Python 3 (ipykernel)",
   "language": "python",
   "name": "python3"
  },
  "language_info": {
   "codemirror_mode": {
    "name": "ipython",
    "version": 3
   },
   "file_extension": ".py",
   "mimetype": "text/x-python",
   "name": "python",
   "nbconvert_exporter": "python",
   "pygments_lexer": "ipython3",
   "version": "3.9.13"
  }
 },
 "nbformat": 4,
 "nbformat_minor": 5
}
