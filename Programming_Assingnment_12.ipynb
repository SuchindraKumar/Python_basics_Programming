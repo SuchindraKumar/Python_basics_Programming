{
 "cells": [
  {
   "cell_type": "markdown",
   "id": "30b1107c",
   "metadata": {},
   "source": [
    "### 1.\tWrite a Python program to Extract Unique values dictionary values?"
   ]
  },
  {
   "cell_type": "code",
   "execution_count": 2,
   "id": "1e81d1b5",
   "metadata": {},
   "outputs": [
    {
     "name": "stdout",
     "output_type": "stream",
     "text": [
      "The original dictionary is : {'gfg': [5, 6, 7, 8], 'is': [10, 11, 7, 5], 'best': [6, 12, 10, 8], 'for': [1, 2, 5]}\n",
      "The unique values list is : [1, 2, 5, 6, 7, 8, 10, 11, 12]\n"
     ]
    }
   ],
   "source": [
    "test_dict = {'gfg': [5, 6, 7, 8],\n",
    "             'is': [10, 11, 7, 5],\n",
    "             'best': [6, 12, 10, 8],\n",
    "             'for': [1, 2, 5]}\n",
    " \n",
    "# printing original dictionary\n",
    "print(\"The original dictionary is : \" + str(test_dict))\n",
    " \n",
    "# Extract Unique values dictionary values\n",
    "# Using set comprehension + values() + sorted()\n",
    "res = list(sorted({ele for val in test_dict.values() for ele in val}))\n",
    " \n",
    "# printing result\n",
    "print(\"The unique values list is : \" + str(res))"
   ]
  },
  {
   "cell_type": "markdown",
   "id": "d9905113",
   "metadata": {},
   "source": [
    "### 2.\tWrite a Python program to find the sum of all items in a dictionary?"
   ]
  },
  {
   "cell_type": "code",
   "execution_count": 3,
   "id": "fd97ed24",
   "metadata": {},
   "outputs": [
    {
     "name": "stdout",
     "output_type": "stream",
     "text": [
      "18\n"
     ]
    }
   ],
   "source": [
    "test_dict = {'gfg': 5, 'is': 6, 'best': 7}\n",
    "total = sum(test_dict.values())\n",
    "print(total)"
   ]
  },
  {
   "cell_type": "markdown",
   "id": "83aacf46",
   "metadata": {},
   "source": [
    "### 3.\tWrite a Python program to Merging two Dictionaries?"
   ]
  },
  {
   "cell_type": "code",
   "execution_count": 4,
   "id": "067cf1d3",
   "metadata": {},
   "outputs": [
    {
     "name": "stdout",
     "output_type": "stream",
     "text": [
      "{'A': 1, 'B': 2, 'x': 3, 'y': 4}\n"
     ]
    }
   ],
   "source": [
    "dict1 = {'A':1, 'B':2}\n",
    "dict2 = {'x':3, 'y':4}\n",
    "\n",
    "dict1.update(dict2)\n",
    "print(dict1)"
   ]
  },
  {
   "cell_type": "markdown",
   "id": "273687f2",
   "metadata": {},
   "source": [
    "### 4.\tWrite a Python program to convert key-values list to flat dictionary?"
   ]
  },
  {
   "cell_type": "code",
   "execution_count": 6,
   "id": "6d1d39b2",
   "metadata": {},
   "outputs": [
    {
     "name": "stdout",
     "output_type": "stream",
     "text": [
      "{'num': [7, 18, 45], 'name': ['MS DHONI', 'VIRAT KOHLI', 'ROHIT SHARMA']}\n"
     ]
    }
   ],
   "source": [
    "test_list = [('num', [7, 18, 45]), ('name', ['MS DHONI', 'VIRAT KOHLI', 'ROHIT SHARMA'])]\n",
    "test_dict = dict(test_list)\n",
    "print(test_dict)"
   ]
  },
  {
   "cell_type": "markdown",
   "id": "cd0a1f95",
   "metadata": {},
   "source": [
    "### 5.\tWrite a Python program to insertion at the beginning in OrderedDict?"
   ]
  },
  {
   "cell_type": "code",
   "execution_count": 8,
   "id": "d24a2c80",
   "metadata": {},
   "outputs": [
    {
     "name": "stdout",
     "output_type": "stream",
     "text": [
      "OrderedDict([('MS DHONI', '7'), ('VIRAT KOHLI', '18'), ('ROHIT SHARMA', '45'), ('RAVINDRA JADEJA', '8')])\n"
     ]
    }
   ],
   "source": [
    "from collections import OrderedDict\n",
    "indian_players = OrderedDict([('MS DHONI', '7'), ('VIRAT KOHLI', '18'), ('ROHIT SHARMA', '45')])\n",
    "indian_players.update([('RAVINDRA JADEJA', '8')])\n",
    "print(indian_players)"
   ]
  },
  {
   "cell_type": "markdown",
   "id": "06303a59",
   "metadata": {},
   "source": [
    "### 6.\tWrite a Python program to check order of character in string using OrderedDict"
   ]
  },
  {
   "cell_type": "code",
   "execution_count": 10,
   "id": "3cbb0586",
   "metadata": {},
   "outputs": [
    {
     "name": "stdout",
     "output_type": "stream",
     "text": [
      "Characters in the given string are in order\n"
     ]
    }
   ],
   "source": [
    "from collections import OrderedDict\n",
    "\n",
    "string = 'EFGH'\n",
    "odict = OrderedDict.fromkeys(string)\n",
    "for char in string:\n",
    "    if char not in odict:\n",
    "        print('Characters in the given string are not in order')\n",
    "        break\n",
    "\n",
    "print('Characters in the given string are in order')"
   ]
  },
  {
   "cell_type": "markdown",
   "id": "23c71968",
   "metadata": {},
   "source": [
    "### 7.\tWrite a Python program to sort Python Dictionaries by Key or Value?"
   ]
  },
  {
   "cell_type": "code",
   "execution_count": 13,
   "id": "06b9dd29",
   "metadata": {},
   "outputs": [
    {
     "name": "stdout",
     "output_type": "stream",
     "text": [
      "Sorted by Keys :  [('x', 23), ('y', 60), ('z', 12)]\n",
      "Sorted by Values :  [('z', 12), ('x', 23), ('y', 60)]\n"
     ]
    }
   ],
   "source": [
    "# BY KEYS\n",
    "\n",
    "\n",
    "test_dict = {'x': 23, 'y': 60, 'z': 12}\n",
    "sorted_dict = sorted(test_dict.items(), key=lambda item: item[0])\n",
    "print(\"Sorted by Keys : \",sorted_dict)\n",
    "\n",
    "\n",
    "# BY VALUE\n",
    "\n",
    "test_dict = {'x': 23, 'y': 60, 'z': 12}\n",
    "sorted_dict = sorted(test_dict.items(), key=lambda item: item[1])\n",
    "print(\"Sorted by Values : \",sorted_dict)"
   ]
  },
  {
   "cell_type": "code",
   "execution_count": null,
   "id": "d566ec31",
   "metadata": {},
   "outputs": [],
   "source": []
  }
 ],
 "metadata": {
  "kernelspec": {
   "display_name": "Python 3 (ipykernel)",
   "language": "python",
   "name": "python3"
  },
  "language_info": {
   "codemirror_mode": {
    "name": "ipython",
    "version": 3
   },
   "file_extension": ".py",
   "mimetype": "text/x-python",
   "name": "python",
   "nbconvert_exporter": "python",
   "pygments_lexer": "ipython3",
   "version": "3.9.13"
  }
 },
 "nbformat": 4,
 "nbformat_minor": 5
}
