{
 "cells": [
  {
   "cell_type": "markdown",
   "id": "988f1efe",
   "metadata": {},
   "source": [
    "### Question1\n",
    "### Create a function that takes a string and returns a string in which each character is repeated once.\n",
    "### Examples\n",
    "### double_char(\"String\") ➞ \"SSttrriinngg\"\n",
    "\n",
    "### double_char(\"Hello World!\") ➞ \"HHeelllloo  WWoorrlldd!!\"\n",
    "\n",
    "### double_char(\"1234!_ \") ➞ \"11223344!!__  \"\n"
   ]
  },
  {
   "cell_type": "code",
   "execution_count": 2,
   "id": "e7d4d22d",
   "metadata": {},
   "outputs": [],
   "source": [
    "def double_char(str):\n",
    "    return ''.join([c+c for c in str])"
   ]
  },
  {
   "cell_type": "code",
   "execution_count": 3,
   "id": "e99db4d3",
   "metadata": {},
   "outputs": [
    {
     "data": {
      "text/plain": [
       "'SSttrriinngg'"
      ]
     },
     "execution_count": 3,
     "metadata": {},
     "output_type": "execute_result"
    }
   ],
   "source": [
    "double_char(\"String\")"
   ]
  },
  {
   "cell_type": "code",
   "execution_count": 4,
   "id": "6e8ab6f7",
   "metadata": {},
   "outputs": [
    {
     "data": {
      "text/plain": [
       "'HHeelllloo  WWoorrlldd!!'"
      ]
     },
     "execution_count": 4,
     "metadata": {},
     "output_type": "execute_result"
    }
   ],
   "source": [
    "double_char(\"Hello World!\") "
   ]
  },
  {
   "cell_type": "code",
   "execution_count": 5,
   "id": "ee0c75ba",
   "metadata": {},
   "outputs": [
    {
     "data": {
      "text/plain": [
       "'11223344!!__  '"
      ]
     },
     "execution_count": 5,
     "metadata": {},
     "output_type": "execute_result"
    }
   ],
   "source": [
    "double_char(\"1234!_ \")"
   ]
  },
  {
   "cell_type": "markdown",
   "id": "2826c0f8",
   "metadata": {},
   "source": [
    "### Question2\n",
    "### Create a function that reverses a boolean value and returns the string \"boolean expected\" if another variable type is given.\n",
    "### Examples\n",
    "### reverse(True) ➞ False\n",
    "\n",
    "### reverse(False) ➞ True\n",
    "\n",
    "### reverse(0) ➞ \"boolean expected\"\n",
    "\n",
    "### reverse(None) ➞ \"boolean expected\"\n"
   ]
  },
  {
   "cell_type": "code",
   "execution_count": 6,
   "id": "bc7e11d7",
   "metadata": {},
   "outputs": [],
   "source": [
    "def reverse(arg=None):\n",
    "    return not arg if type(arg) == bool else \"boolean expected\""
   ]
  },
  {
   "cell_type": "code",
   "execution_count": 7,
   "id": "df4d20c8",
   "metadata": {},
   "outputs": [
    {
     "data": {
      "text/plain": [
       "False"
      ]
     },
     "execution_count": 7,
     "metadata": {},
     "output_type": "execute_result"
    }
   ],
   "source": [
    "reverse(True)"
   ]
  },
  {
   "cell_type": "code",
   "execution_count": 8,
   "id": "207fdaa6",
   "metadata": {},
   "outputs": [
    {
     "data": {
      "text/plain": [
       "True"
      ]
     },
     "execution_count": 8,
     "metadata": {},
     "output_type": "execute_result"
    }
   ],
   "source": [
    "reverse(False)"
   ]
  },
  {
   "cell_type": "code",
   "execution_count": 9,
   "id": "f23b991d",
   "metadata": {},
   "outputs": [
    {
     "data": {
      "text/plain": [
       "'boolean expected'"
      ]
     },
     "execution_count": 9,
     "metadata": {},
     "output_type": "execute_result"
    }
   ],
   "source": [
    "reverse(0)"
   ]
  },
  {
   "cell_type": "code",
   "execution_count": 10,
   "id": "1872ebf0",
   "metadata": {},
   "outputs": [
    {
     "data": {
      "text/plain": [
       "'boolean expected'"
      ]
     },
     "execution_count": 10,
     "metadata": {},
     "output_type": "execute_result"
    }
   ],
   "source": [
    "reverse(None)"
   ]
  },
  {
   "cell_type": "markdown",
   "id": "c23f3633",
   "metadata": {},
   "source": [
    "### Question3\n",
    "### Create a function that returns the thickness (in meters) of a piece of paper after folding it n number of times. The paper starts off with a thickness of 0.5mm.\n",
    "### Examples\n",
    "### num_layers(1) ➞ \"0.001m\"\n",
    "### Paper folded once is 1mm (equal to 0.001m)\n",
    "\n",
    "### num_layers(4) ➞ \"0.008m\"\n",
    "### Paper folded 4 times is 8mm (equal to 0.008m)\n",
    "\n",
    "### num_layers(21) ➞ \"1048.576m\"\n",
    "### Paper folded 21 times is 1048576mm (equal to 1048.576m)\n"
   ]
  },
  {
   "cell_type": "code",
   "execution_count": 11,
   "id": "a89d66f9",
   "metadata": {},
   "outputs": [],
   "source": [
    "def num_layers(n):\n",
    "    thickness = 0.5\n",
    "    for _ in range(n):\n",
    "        thickness *= 2\n",
    "    \n",
    "    return str(thickness / 1000)+'m' # for meters"
   ]
  },
  {
   "cell_type": "code",
   "execution_count": 12,
   "id": "1c357dc8",
   "metadata": {},
   "outputs": [
    {
     "data": {
      "text/plain": [
       "'0.001m'"
      ]
     },
     "execution_count": 12,
     "metadata": {},
     "output_type": "execute_result"
    }
   ],
   "source": [
    "num_layers(1)"
   ]
  },
  {
   "cell_type": "code",
   "execution_count": 13,
   "id": "ba08ef24",
   "metadata": {},
   "outputs": [
    {
     "data": {
      "text/plain": [
       "'0.008m'"
      ]
     },
     "execution_count": 13,
     "metadata": {},
     "output_type": "execute_result"
    }
   ],
   "source": [
    "num_layers(4) "
   ]
  },
  {
   "cell_type": "code",
   "execution_count": 14,
   "id": "0a55e233",
   "metadata": {},
   "outputs": [
    {
     "data": {
      "text/plain": [
       "'1048.576m'"
      ]
     },
     "execution_count": 14,
     "metadata": {},
     "output_type": "execute_result"
    }
   ],
   "source": [
    "num_layers(21)"
   ]
  },
  {
   "cell_type": "markdown",
   "id": "8631afec",
   "metadata": {},
   "source": [
    "### Question4\n",
    "### Create a function that takes a single string as argument and returns an ordered list containing the indices of all capital letters in the string.\n",
    "### Examples\n",
    "### index_of_caps(\"eDaBiT\") ➞ [1, 3, 5]\n",
    "\n",
    "### index_of_caps(\"eQuINoX\") ➞ [1, 3, 4, 6]\n",
    "\n",
    "### index_of_caps(\"determine\") ➞ []\n",
    "\n",
    "### index_of_caps(\"STRIKE\") ➞ [0, 1, 2, 3, 4, 5]\n",
    "\n",
    "### index_of_caps(\"sUn\") ➞ [1]\n"
   ]
  },
  {
   "cell_type": "code",
   "execution_count": 15,
   "id": "130cbae1",
   "metadata": {},
   "outputs": [],
   "source": [
    "def index_of_caps(word):\n",
    "    indices = []\n",
    "    for i in range(len(word)):\n",
    "        if word[i].isupper():\n",
    "             indices.append(i)\n",
    "    return indices"
   ]
  },
  {
   "cell_type": "code",
   "execution_count": 16,
   "id": "dd4e1963",
   "metadata": {},
   "outputs": [
    {
     "data": {
      "text/plain": [
       "[1, 3, 5]"
      ]
     },
     "execution_count": 16,
     "metadata": {},
     "output_type": "execute_result"
    }
   ],
   "source": [
    "index_of_caps(\"eDaBiT\")"
   ]
  },
  {
   "cell_type": "code",
   "execution_count": 17,
   "id": "5ab258f1",
   "metadata": {},
   "outputs": [
    {
     "data": {
      "text/plain": [
       "[1, 3, 4, 6]"
      ]
     },
     "execution_count": 17,
     "metadata": {},
     "output_type": "execute_result"
    }
   ],
   "source": [
    "index_of_caps(\"eQuINoX\")"
   ]
  },
  {
   "cell_type": "code",
   "execution_count": 18,
   "id": "9ed109b9",
   "metadata": {},
   "outputs": [
    {
     "data": {
      "text/plain": [
       "[]"
      ]
     },
     "execution_count": 18,
     "metadata": {},
     "output_type": "execute_result"
    }
   ],
   "source": [
    "index_of_caps(\"determine\") "
   ]
  },
  {
   "cell_type": "code",
   "execution_count": 19,
   "id": "4726ae2c",
   "metadata": {},
   "outputs": [
    {
     "data": {
      "text/plain": [
       "[0, 1, 2, 3, 4, 5]"
      ]
     },
     "execution_count": 19,
     "metadata": {},
     "output_type": "execute_result"
    }
   ],
   "source": [
    "index_of_caps(\"STRIKE\") "
   ]
  },
  {
   "cell_type": "code",
   "execution_count": 20,
   "id": "9bd0754c",
   "metadata": {},
   "outputs": [
    {
     "data": {
      "text/plain": [
       "[1]"
      ]
     },
     "execution_count": 20,
     "metadata": {},
     "output_type": "execute_result"
    }
   ],
   "source": [
    "index_of_caps(\"sUn\")"
   ]
  },
  {
   "cell_type": "markdown",
   "id": "cca82b31",
   "metadata": {},
   "source": [
    "### Question5\n",
    "### Using list comprehensions, create a function that finds all even numbers from 1 to the given number.\n",
    "### Examples\n",
    "### find_even_nums(8) ➞ [2, 4, 6, 8]\n",
    "\n",
    "### find_even_nums(4) ➞ [2, 4]\n",
    "\n",
    "### find_even_nums(2) ➞ [2]\n"
   ]
  },
  {
   "cell_type": "code",
   "execution_count": 21,
   "id": "81a403c5",
   "metadata": {},
   "outputs": [],
   "source": [
    "def find_even_nums(n):\n",
    "    even =[x for x in range(2,n+1) if x % 2 == 0]\n",
    "    return even"
   ]
  },
  {
   "cell_type": "code",
   "execution_count": 22,
   "id": "ddd7f1b4",
   "metadata": {},
   "outputs": [
    {
     "data": {
      "text/plain": [
       "[2, 4, 6, 8]"
      ]
     },
     "execution_count": 22,
     "metadata": {},
     "output_type": "execute_result"
    }
   ],
   "source": [
    "find_even_nums(8)"
   ]
  },
  {
   "cell_type": "code",
   "execution_count": 23,
   "id": "0950abd2",
   "metadata": {},
   "outputs": [
    {
     "data": {
      "text/plain": [
       "[2, 4]"
      ]
     },
     "execution_count": 23,
     "metadata": {},
     "output_type": "execute_result"
    }
   ],
   "source": [
    "find_even_nums(4)"
   ]
  },
  {
   "cell_type": "code",
   "execution_count": 24,
   "id": "08457f0e",
   "metadata": {},
   "outputs": [
    {
     "data": {
      "text/plain": [
       "[2]"
      ]
     },
     "execution_count": 24,
     "metadata": {},
     "output_type": "execute_result"
    }
   ],
   "source": [
    "find_even_nums(2)"
   ]
  },
  {
   "cell_type": "code",
   "execution_count": null,
   "id": "a510e878",
   "metadata": {},
   "outputs": [],
   "source": []
  }
 ],
 "metadata": {
  "kernelspec": {
   "display_name": "Python 3 (ipykernel)",
   "language": "python",
   "name": "python3"
  },
  "language_info": {
   "codemirror_mode": {
    "name": "ipython",
    "version": 3
   },
   "file_extension": ".py",
   "mimetype": "text/x-python",
   "name": "python",
   "nbconvert_exporter": "python",
   "pygments_lexer": "ipython3",
   "version": "3.9.13"
  }
 },
 "nbformat": 4,
 "nbformat_minor": 5
}
