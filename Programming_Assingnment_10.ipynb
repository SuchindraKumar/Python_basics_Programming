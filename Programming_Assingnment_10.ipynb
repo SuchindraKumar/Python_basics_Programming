{
 "cells": [
  {
   "cell_type": "markdown",
   "id": "0414c683",
   "metadata": {},
   "source": [
    "### 1.\tWrite a Python program to find sum of elements in list?"
   ]
  },
  {
   "cell_type": "code",
   "execution_count": 2,
   "id": "e22b15d2",
   "metadata": {},
   "outputs": [
    {
     "name": "stdout",
     "output_type": "stream",
     "text": [
      "Sum of List:  61\n"
     ]
    }
   ],
   "source": [
    "numlist = [2,4,2,5,7,9,23,4,5]\n",
    "numsum = sum(numlist)\n",
    "print('Sum of List: ',numsum)\n"
   ]
  },
  {
   "cell_type": "markdown",
   "id": "5df39fa5",
   "metadata": {},
   "source": [
    "### 2.\tWrite a Python program to  Multiply all numbers in the list?"
   ]
  },
  {
   "cell_type": "code",
   "execution_count": 3,
   "id": "f4aea329",
   "metadata": {},
   "outputs": [
    {
     "data": {
      "text/plain": [
       "720"
      ]
     },
     "execution_count": 3,
     "metadata": {},
     "output_type": "execute_result"
    }
   ],
   "source": [
    " from functools import reduce\n",
    "\n",
    "reduce(lambda x, y: x*y, [1,2,3,4,5,6])"
   ]
  },
  {
   "cell_type": "markdown",
   "id": "c3a26dde",
   "metadata": {},
   "source": [
    "### 3.\tWrite a Python program to find smallest number in a list?"
   ]
  },
  {
   "cell_type": "code",
   "execution_count": 6,
   "id": "418f5149",
   "metadata": {},
   "outputs": [
    {
     "name": "stdout",
     "output_type": "stream",
     "text": [
      "1\n"
     ]
    }
   ],
   "source": [
    "x = [2,3,5,9,1,2,3]\n",
    "\n",
    "def my_min(sequence):\n",
    "    \"\"\"return the minimum element of sequence\"\"\"\n",
    "    low = sequence[0] # need to start with some value\n",
    "    for i in sequence:\n",
    "        if i < low:\n",
    "            low = i\n",
    "    return low\n",
    "\n",
    "print (my_min(x))"
   ]
  },
  {
   "cell_type": "markdown",
   "id": "a12623ce",
   "metadata": {},
   "source": [
    "### 4.\tWrite a Python program to find largest number in a list?"
   ]
  },
  {
   "cell_type": "code",
   "execution_count": 9,
   "id": "2b306e0b",
   "metadata": {},
   "outputs": [
    {
     "name": "stdout",
     "output_type": "stream",
     "text": [
      "88\n"
     ]
    }
   ],
   "source": [
    "test = [4, 6, 9, 4, 3, 88, 3, 2]\n",
    "fourth = max(test)\n",
    "print(fourth)"
   ]
  },
  {
   "cell_type": "markdown",
   "id": "48b99578",
   "metadata": {},
   "source": [
    "### 5.\tWrite a Python program to find second largest number in a list?"
   ]
  },
  {
   "cell_type": "code",
   "execution_count": 10,
   "id": "bc73a419",
   "metadata": {},
   "outputs": [
    {
     "name": "stdout",
     "output_type": "stream",
     "text": [
      "10\n"
     ]
    }
   ],
   "source": [
    "list = [9, 6, 4, 10, 13, 2, 3, 5]\n",
    "max = float('-inf')\n",
    "second_last = float('-inf')\n",
    "for x in list:\n",
    "    if x > max:\n",
    "        second_last = max\n",
    "        max = x\n",
    "    elif x > second_last and x != max:\n",
    "        second_last = x\n",
    "\n",
    "print(second_last)"
   ]
  },
  {
   "cell_type": "markdown",
   "id": "e9b3c796",
   "metadata": {},
   "source": [
    "### 6.\tWrite a Python program to find N largest elements from a list?"
   ]
  },
  {
   "cell_type": "code",
   "execution_count": 11,
   "id": "7430c922",
   "metadata": {},
   "outputs": [
    {
     "name": "stdout",
     "output_type": "stream",
     "text": [
      "2 max elements in  [2, 6, 41, 85, 0, 3, 7, 6, 10]\n",
      "[85, 41]\n"
     ]
    }
   ],
   "source": [
    "def N_max_elements(list, N):\n",
    "    result_list = []\n",
    "  \n",
    "    for i in range(0, N): \n",
    "        maximum = 0\n",
    "          \n",
    "        for j in range(len(list)):     \n",
    "            if list[j] > maximum:\n",
    "                maximum = list[j]\n",
    "                  \n",
    "        list.remove(maximum)\n",
    "        result_list.append(maximum)\n",
    "          \n",
    "    return result_list\n",
    "  \n",
    "#test\n",
    "list1 = [2, 6, 41, 85, 0, 3, 7, 6, 10]\n",
    "N = 2\n",
    "\n",
    "print(N, \"max elements in \",list1)\n",
    "  \n",
    "# Calling and printing the function\n",
    "print(N_max_elements(list1, N))"
   ]
  },
  {
   "cell_type": "markdown",
   "id": "ae2a7fe9",
   "metadata": {},
   "source": [
    "### 7.\tWrite a Python program to print even numbers in a list?"
   ]
  },
  {
   "cell_type": "code",
   "execution_count": 13,
   "id": "bbfc2f63",
   "metadata": {},
   "outputs": [
    {
     "name": "stdout",
     "output_type": "stream",
     "text": [
      "Enter size of list 5\n",
      "Enter element of list 2\n",
      "Enter element of list 4\n",
      "Enter element of list 5\n",
      "Enter element of list 6\n",
      "Enter element of list 7\n",
      "Even numbers in  [2, 4, 5, 6, 7]\n",
      "[2, 4, 6]\n"
     ]
    }
   ],
   "source": [
    "def even(list):\n",
    "    new_list=[]\n",
    "    for i in list:\n",
    "        if i%2==0:               \n",
    "            new_list.append(i)\n",
    "    return new_list\n",
    "\n",
    "li=[]\n",
    "n=int(input(\"Enter size of list \"))\n",
    "for i in range(0,n):\n",
    "    e=int(input(\"Enter element of list \"))\n",
    "    li.append(e)\n",
    "\n",
    "print(\"Even numbers in \",li)\n",
    "print(even(li))"
   ]
  },
  {
   "cell_type": "markdown",
   "id": "6056c646",
   "metadata": {},
   "source": [
    "### 8.\tWrite a Python program to print odd numbers in a List?"
   ]
  },
  {
   "cell_type": "code",
   "execution_count": 1,
   "id": "dab76120",
   "metadata": {},
   "outputs": [
    {
     "name": "stdout",
     "output_type": "stream",
     "text": [
      "Enter size of list 5\n",
      "Enter element of list 2\n",
      "Enter element of list 4\n",
      "Enter element of list 5\n",
      "Enter element of list 6\n",
      "Enter element of list 7\n",
      "Odd numbers in  [2, 4, 5, 6, 7]\n",
      "[5, 7]\n"
     ]
    }
   ],
   "source": [
    "def even(list):\n",
    "    new_list=[]\n",
    "    for i in list:\n",
    "        if i%2!=0:               \n",
    "            new_list.append(i)\n",
    "    return new_list\n",
    "\n",
    "li=[]\n",
    "n=int(input(\"Enter size of list \"))\n",
    "for i in range(0,n):\n",
    "    e=int(input(\"Enter element of list \"))\n",
    "    li.append(e)\n",
    "\n",
    "print(\"Odd numbers in \",li)\n",
    "print(even(li))"
   ]
  },
  {
   "cell_type": "markdown",
   "id": "9f9d3a4a",
   "metadata": {},
   "source": [
    "### 9.\tWrite a Python program to Remove empty List from List?"
   ]
  },
  {
   "cell_type": "code",
   "execution_count": 2,
   "id": "c2dfb2d8",
   "metadata": {},
   "outputs": [
    {
     "name": "stdout",
     "output_type": "stream",
     "text": [
      "The original list is : [1, [], 2, 3, [], 4, 5, [], [], 9]\n",
      "List after empty list removal : [1, 2, 3, 4, 5, 9]\n"
     ]
    }
   ],
   "source": [
    "myList = [1, [], 2, 3, [], 4, 5, [], [], 9]\n",
    "\n",
    "# printing original list\n",
    "print(\"The original list is : \" + str(myList))\n",
    "\n",
    "# Remove empty List from List\n",
    "result = list(filter(None, myList))\n",
    "\n",
    "# printing result\n",
    "print (\"List after empty list removal : \" + str(result))"
   ]
  },
  {
   "cell_type": "markdown",
   "id": "01877298",
   "metadata": {},
   "source": [
    "### 10.\tWrite a Python program to Cloning or Copying a list?"
   ]
  },
  {
   "cell_type": "code",
   "execution_count": 3,
   "id": "7725da46",
   "metadata": {},
   "outputs": [
    {
     "name": "stdout",
     "output_type": "stream",
     "text": [
      "Old List:  [1, 2, 3, 4, 5]\n",
      "New List:  [1, 2, 3, 4, 5]\n"
     ]
    }
   ],
   "source": [
    "my_list = [1, 2, 3, 4, 5]\n",
    "copy_list = my_list\n",
    "print('Old List: ', my_list)\n",
    "print('New List: ', copy_list)"
   ]
  },
  {
   "cell_type": "markdown",
   "id": "b536ae00",
   "metadata": {},
   "source": [
    "### 11.\tWrite a Python program to Count occurrences of an element in a list?"
   ]
  },
  {
   "cell_type": "code",
   "execution_count": 4,
   "id": "07ecc3b2",
   "metadata": {},
   "outputs": [
    {
     "name": "stdout",
     "output_type": "stream",
     "text": [
      "Enter size of list 5\n",
      "Enter element of list 2\n",
      "Enter element of list 4\n",
      "Enter element of list 2\n",
      "Enter element of list 3\n",
      "Enter element of list 4\n",
      "Original list:  [2, 4, 2, 3, 4]\n",
      "Enter element to be checked list: 4\n",
      "4  has occurred  2 times\n"
     ]
    }
   ],
   "source": [
    "li=[]\n",
    "n=int(input(\"Enter size of list \"))\n",
    "for i in range(0,n):\n",
    "    e=int(input(\"Enter element of list \"))\n",
    "    li.append(e)\n",
    "print(\"Original list: \",li)\n",
    "\n",
    "n=int(input(\"Enter element to be checked list: \"))\n",
    "\n",
    "#using count()\n",
    "print(n,\" has occurred \",li.count(n),\"times\")"
   ]
  },
  {
   "cell_type": "code",
   "execution_count": null,
   "id": "7c6914df",
   "metadata": {},
   "outputs": [],
   "source": []
  }
 ],
 "metadata": {
  "kernelspec": {
   "display_name": "Python 3 (ipykernel)",
   "language": "python",
   "name": "python3"
  },
  "language_info": {
   "codemirror_mode": {
    "name": "ipython",
    "version": 3
   },
   "file_extension": ".py",
   "mimetype": "text/x-python",
   "name": "python",
   "nbconvert_exporter": "python",
   "pygments_lexer": "ipython3",
   "version": "3.9.13"
  }
 },
 "nbformat": 4,
 "nbformat_minor": 5
}
