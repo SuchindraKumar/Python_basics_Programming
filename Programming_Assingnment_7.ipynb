{
 "cells": [
  {
   "cell_type": "markdown",
   "id": "f00fa706",
   "metadata": {},
   "source": [
    "### 1.\tWrite a Python Program to find sum of array?"
   ]
  },
  {
   "cell_type": "code",
   "execution_count": 1,
   "id": "48d22c49",
   "metadata": {},
   "outputs": [
    {
     "name": "stdout",
     "output_type": "stream",
     "text": [
      "15\n"
     ]
    }
   ],
   "source": [
    "# Initialize array \n",
    "arr = [1, 2, 3, 4, 5] \n",
    "sum = 0\n",
    "\n",
    "# Loop through the array to calculate sum of elements\n",
    "for i in range(0, len(arr)):\n",
    "    sum = sum + arr[i] \n",
    "\n",
    "\n",
    "print(sum)"
   ]
  },
  {
   "cell_type": "markdown",
   "id": "85f711df",
   "metadata": {},
   "source": [
    "### 2.\tWrite a Python Program to find largest element in an array?"
   ]
  },
  {
   "cell_type": "code",
   "execution_count": 2,
   "id": "d9b2a4ca",
   "metadata": {},
   "outputs": [
    {
     "name": "stdout",
     "output_type": "stream",
     "text": [
      "The largest element in the array is: 50\n"
     ]
    }
   ],
   "source": [
    "arr = [50, 12, 23, 11]\n",
    "\n",
    "# Find the maximum value in the array\n",
    "maxVal = arr[0]\n",
    "for i in range(1, len(arr)):\n",
    "    if (arr[i] > maxVal):\n",
    "        maxVal = arr[i]\n",
    "\n",
    "# Print the maximum value\n",
    "print(\"The largest element in the array is:\", maxVal)"
   ]
  },
  {
   "cell_type": "markdown",
   "id": "88f8a316",
   "metadata": {},
   "source": [
    "### 3.Write a Python Program for array rotation?"
   ]
  },
  {
   "cell_type": "code",
   "execution_count": 4,
   "id": "d946de82",
   "metadata": {},
   "outputs": [
    {
     "name": "stdout",
     "output_type": "stream",
     "text": [
      "3 4 5 1 2 "
     ]
    }
   ],
   "source": [
    "# Initialize array \n",
    "arr = [1, 2, 3, 4, 5] \n",
    "  \n",
    "# Function for array rotation \n",
    "def rotate(arr, d, n): \n",
    "    for i in range(d): \n",
    "        leftRotatebyOne(arr, n) \n",
    "  \n",
    " # Function to left Rotate array by one \n",
    "def leftRotatebyOne(arr, n): \n",
    "    temp = arr[0] \n",
    "    for i in range(n-1): \n",
    "        arr[i] = arr[i + 1] \n",
    "    arr[n-1] = temp \n",
    "  \n",
    " # Function to print an array \n",
    "def printArray(arr, n): \n",
    "    for i in range(n): \n",
    "        print(arr[i], end=\" \") \n",
    "  \n",
    " # Driver program to test above functions \n",
    "n = len(arr) \n",
    "d = 2\n",
    "  \n",
    "# Function call \n",
    "rotate(arr, d, n) \n",
    "printArray(arr, n)"
   ]
  },
  {
   "cell_type": "markdown",
   "id": "1947afcd",
   "metadata": {},
   "source": [
    "### 4.\tWrite a Python Program to Split the array and add the first part to the end?"
   ]
  },
  {
   "cell_type": "code",
   "execution_count": 5,
   "id": "f535c524",
   "metadata": {},
   "outputs": [
    {
     "name": "stdout",
     "output_type": "stream",
     "text": [
      "2 3 4 5 0 1 "
     ]
    }
   ],
   "source": [
    "# Initialize array \n",
    "arr = [0, 1, 2, 3, 4, 5] \n",
    "n = len(arr) \n",
    "k = 2\n",
    "  \n",
    "# Function to split the array \n",
    "def splitArr(arr, n, k): \n",
    "    for i in range(0, k): \n",
    "        x = arr[0] \n",
    "        for j in range(0, n-1): \n",
    "            arr[j] = arr[j + 1] \n",
    "        arr[n-1] = x \n",
    "  \n",
    "  # Function to print array \n",
    "def printArray(arr, n): \n",
    "    for i in range(0, n): \n",
    "        print(arr[i], end=' ') \n",
    "  \n",
    " # Driver program \n",
    "splitArr(arr, n, k) \n",
    "  \n",
    "printArray(arr, n)"
   ]
  },
  {
   "cell_type": "markdown",
   "id": "73563606",
   "metadata": {},
   "source": [
    "### 5.\tWrite a Python Program to check if given array is Monotonic?"
   ]
  },
  {
   "cell_type": "code",
   "execution_count": 6,
   "id": "fb1f281e",
   "metadata": {},
   "outputs": [
    {
     "name": "stdout",
     "output_type": "stream",
     "text": [
      "The given array is monotonic\n"
     ]
    }
   ],
   "source": [
    "# Initialize array\n",
    "arr = [1, 2, 3, 4, 5]\n",
    "\n",
    "# Function to check if the array is monotonic\n",
    "def isMonotonic(A):\n",
    "    x, y = [], []\n",
    "    x.extend(A)\n",
    "    y.extend(A)\n",
    "    x.sort()\n",
    "    y.sort(reverse=True)\n",
    "    if x == A or y == A:\n",
    "        return True\n",
    "    else:\n",
    "        return False\n",
    "\n",
    "# Driver program to test above functions\n",
    "n = len(arr)\n",
    "\n",
    "# Function call\n",
    "if isMonotonic(arr):\n",
    "    print(\"The given array is monotonic\")\n",
    "else:\n",
    "    print(\"The given array is not monotonic\")"
   ]
  },
  {
   "cell_type": "code",
   "execution_count": null,
   "id": "d8f186ed",
   "metadata": {},
   "outputs": [],
   "source": []
  }
 ],
 "metadata": {
  "kernelspec": {
   "display_name": "Python 3 (ipykernel)",
   "language": "python",
   "name": "python3"
  },
  "language_info": {
   "codemirror_mode": {
    "name": "ipython",
    "version": 3
   },
   "file_extension": ".py",
   "mimetype": "text/x-python",
   "name": "python",
   "nbconvert_exporter": "python",
   "pygments_lexer": "ipython3",
   "version": "3.9.13"
  }
 },
 "nbformat": 4,
 "nbformat_minor": 5
}
