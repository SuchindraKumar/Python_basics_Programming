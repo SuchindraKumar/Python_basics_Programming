{
 "cells": [
  {
   "cell_type": "markdown",
   "id": "065a45ca",
   "metadata": {},
   "source": [
    "### Question 1:\n",
    "\n",
    "### Define a class with a generator which can iterate the numbers, which are divisible by 7, between a given range 0 and n.\n"
   ]
  },
  {
   "cell_type": "code",
   "execution_count": 19,
   "id": "1f82f747",
   "metadata": {},
   "outputs": [
    {
     "name": "stdout",
     "output_type": "stream",
     "text": [
      "Please Enter Range : 30\n",
      "0,7,14,21,28\n"
     ]
    }
   ],
   "source": [
    "def NumGenerator(n):\n",
    "    \"\"\"  print the numbers which can be divisible by 5 and\n",
    "7 between 0 and n in comma separated form while n is input by console.\"\"\"\n",
    "    for i in range(n+1):\n",
    "        if i%7==0:\n",
    "            yield i\n",
    "n=int(input(\"Please Enter Range : \"))\n",
    "values = []\n",
    "for i in NumGenerator(n):\n",
    "    values.append(str(i))\n",
    "\n",
    "print( \",\".join(values))"
   ]
  },
  {
   "cell_type": "markdown",
   "id": "53d9aa53",
   "metadata": {},
   "source": [
    "### Question 2:\n",
    "### Write a program to compute the frequency of the words from the input. The output should output after sorting the key alphanumerically. \n",
    "\n",
    "### Suppose the following input is supplied to the program:\n",
    "\n",
    "### New to Python or choosing between Python 2 and Python 3? Read Python 2 or Python 3.\n",
    "\n",
    "### Then, the output should be:\n",
    "\n",
    "### 2:2\n",
    "\n",
    "### 3.:1\n",
    "\n",
    "### 3?:1\n",
    "\n",
    "### New:1\n",
    "\n",
    "### Python:5\n",
    "\n",
    "### Read:1\n",
    "\n",
    "### and:1\n",
    "\n",
    "### between:1\n",
    "\n",
    "### choosing:1\n",
    "\n",
    "### or:2\n",
    "\n",
    "### to:1\n"
   ]
  },
  {
   "cell_type": "code",
   "execution_count": 17,
   "id": "83ce25ae",
   "metadata": {},
   "outputs": [],
   "source": [
    "def frequency(input):\n",
    "    freq = {}\n",
    "\n",
    "    for word in input.split():\n",
    "        freq[word] = freq.get(word, 0) + 1\n",
    "\n",
    "    words = list(freq.keys())\n",
    "    words.sort()\n",
    "\n",
    "    for w in words:\n",
    "        print(f'{w}:{freq[w]}')"
   ]
  },
  {
   "cell_type": "code",
   "execution_count": 21,
   "id": "4fafa05e",
   "metadata": {},
   "outputs": [
    {
     "name": "stdout",
     "output_type": "stream",
     "text": [
      "2:2\n",
      "3:1\n",
      "3?:1\n",
      "New:1\n",
      "Python:5\n",
      "Read:1\n",
      "and:1\n",
      "between:1\n",
      "choosing:1\n",
      "or:2\n",
      "to:1\n"
     ]
    }
   ],
   "source": [
    "frequency('New to Python or choosing between Python 2 and Python 3? Read Python 2 or Python 3')"
   ]
  },
  {
   "cell_type": "markdown",
   "id": "9c5b3f57",
   "metadata": {},
   "source": [
    "### Question 3:\n",
    "\n",
    "\n",
    "\n",
    "### Define a class Person and its two child classes: Male and Female. All classes have a method \"getGender\" which can print \"Male\" for Male class and \"Female\" for Female class.\n"
   ]
  },
  {
   "cell_type": "code",
   "execution_count": 22,
   "id": "85785538",
   "metadata": {},
   "outputs": [],
   "source": [
    "class Person(object):\n",
    "    def getGender( self ):\n",
    "        return \"Unknown\"\n",
    "\n",
    "class Male( Person ):\n",
    "    def getGender( self ):\n",
    "        return \"Male\"\n",
    "\n",
    "class Female( Person ):\n",
    "    def getGender( self ):\n",
    "        return \"Female\"\n"
   ]
  },
  {
   "cell_type": "code",
   "execution_count": 23,
   "id": "e34a1696",
   "metadata": {},
   "outputs": [
    {
     "name": "stdout",
     "output_type": "stream",
     "text": [
      "Male\n",
      "Female\n"
     ]
    }
   ],
   "source": [
    "objMale = Male()\n",
    "objFemale= Female()\n",
    "print(objMale.getGender())\n",
    "print(objFemale.getGender())"
   ]
  },
  {
   "cell_type": "markdown",
   "id": "f473fd86",
   "metadata": {},
   "source": [
    "### Question 4:\n",
    "### Please write a program to generate all sentences where subject is in [\"I\", \"You\"] and verb is in [\"Play\", \"Love\"] and the object is in [\"Hockey\",\"Football\"].\n"
   ]
  },
  {
   "cell_type": "code",
   "execution_count": 24,
   "id": "4d30c3d3",
   "metadata": {},
   "outputs": [
    {
     "name": "stdout",
     "output_type": "stream",
     "text": [
      "I Play Hockey\n",
      "I Play Football\n",
      "I Love Hockey\n",
      "I Love Football\n",
      "You Play Hockey\n",
      "You Play Football\n",
      "You Love Hockey\n",
      "You Love Football\n"
     ]
    }
   ],
   "source": [
    "subject=[\"I\", \"You\"]\n",
    "verb=[\"Play\", \"Love\"]\n",
    "obj=[\"Hockey\",\"Football\"]\n",
    "\n",
    "# Use list comprehension instead of looping over each of the predicates\n",
    "sentence_list = [(sub+\" \"+ vb + \" \" + ob) for sub in subject for vb in verb for ob in obj]\n",
    "for sentence in sentence_list:\n",
    "    print(sentence)"
   ]
  },
  {
   "cell_type": "markdown",
   "id": "aa0f4b10",
   "metadata": {},
   "source": [
    "### Question 5:\n",
    "### Please write a program to compress and decompress the string \"hello world!hello world!hello world!hello world###  !\".\n"
   ]
  },
  {
   "cell_type": "code",
   "execution_count": 26,
   "id": "52f3848b",
   "metadata": {},
   "outputs": [
    {
     "name": "stdout",
     "output_type": "stream",
     "text": [
      "b'x\\x9c\\xcbH\\xcd\\xc9\\xc9W(\\xcf/\\xcaIQ\\xcc \\x82\\r\\x00\\xbd[\\x11\\xf5'\n"
     ]
    }
   ],
   "source": [
    "import zlib\n",
    "s = 'hello world!hello world!hello world!hello world!'\n",
    "# In Python 3 zlib.compress() accepts only DataType <bytes>\n",
    "y = bytes(s, 'utf-8')\n",
    "x = zlib.compress(y)\n",
    "print(x)\n"
   ]
  },
  {
   "cell_type": "code",
   "execution_count": 27,
   "id": "8834c4b2",
   "metadata": {},
   "outputs": [
    {
     "name": "stdout",
     "output_type": "stream",
     "text": [
      "b'hello world!hello world!hello world!hello world!'\n"
     ]
    }
   ],
   "source": [
    "print(zlib.decompress(x))"
   ]
  },
  {
   "cell_type": "markdown",
   "id": "64c7bbcc",
   "metadata": {},
   "source": [
    "### Question 6:\n",
    "### Please write a binary search function which searches an item in a sorted list. The function should return the index of element to be searched in the list.\n"
   ]
  },
  {
   "cell_type": "code",
   "execution_count": 28,
   "id": "c1ebc6fb",
   "metadata": {},
   "outputs": [
    {
     "name": "stdout",
     "output_type": "stream",
     "text": [
      "First occurrence of 28 is present at 4\n"
     ]
    }
   ],
   "source": [
    "from bisect import bisect_left\n",
    "  \n",
    "def BinarySearch(a, x):\n",
    "    i = bisect_left(a, x)\n",
    "    if i != len(a) and a[i] == x:\n",
    "        return i\n",
    "    else:\n",
    "        return -1 \n",
    "\n",
    "a = [11, 12, 14, 14, 28,28]\n",
    "x = int(28)\n",
    "res = BinarySearch(a, x)\n",
    "if res == -1:\n",
    "    print(x, \"is absent\")\n",
    "else:\n",
    "    print(\"First occurrence of\", x, \"is present at\", res)"
   ]
  },
  {
   "cell_type": "code",
   "execution_count": null,
   "id": "1f74133a",
   "metadata": {},
   "outputs": [],
   "source": []
  }
 ],
 "metadata": {
  "kernelspec": {
   "display_name": "Python 3 (ipykernel)",
   "language": "python",
   "name": "python3"
  },
  "language_info": {
   "codemirror_mode": {
    "name": "ipython",
    "version": 3
   },
   "file_extension": ".py",
   "mimetype": "text/x-python",
   "name": "python",
   "nbconvert_exporter": "python",
   "pygments_lexer": "ipython3",
   "version": "3.9.13"
  }
 },
 "nbformat": 4,
 "nbformat_minor": 5
}
