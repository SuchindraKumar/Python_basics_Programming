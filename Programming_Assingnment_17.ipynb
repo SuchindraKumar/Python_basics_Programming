{
 "cells": [
  {
   "cell_type": "markdown",
   "id": "f5263050",
   "metadata": {},
   "source": [
    "### Question1. Create a function that takes three arguments a, b, c and returns the sum of the numbers that are evenly divided by c from the range a, b inclusive.\n",
    "### Examples\n",
    "### evenly_divisible(1, 10, 20) ➞ 0\n",
    "### No number between 1 and 10 can be evenly divided by 20.\n",
    "\n",
    "### evenly_divisible(1, 10, 2) ➞ 30\n",
    "### 2 + 4 + 6 + 8 + 10 = 30\n",
    "\n",
    "### evenly_divisible(1, 10, 3) ➞ 18\n",
    "### 3 + 6 + 9 = 18\n"
   ]
  },
  {
   "cell_type": "code",
   "execution_count": 8,
   "id": "92bf08b4",
   "metadata": {},
   "outputs": [
    {
     "name": "stdout",
     "output_type": "stream",
     "text": [
      "0\n"
     ]
    }
   ],
   "source": [
    "def sumDivisibles(a, b, c):     \n",
    "    sum = 0\n",
    "    for i in range(a, b + 1): \n",
    "        if (i % c == 0):\n",
    "            sum += i \n",
    "    return sum\n"
   ]
  },
  {
   "cell_type": "code",
   "execution_count": 9,
   "id": "249c58f9",
   "metadata": {},
   "outputs": [
    {
     "name": "stdout",
     "output_type": "stream",
     "text": [
      "0\n"
     ]
    }
   ],
   "source": [
    "print(sumDivisibles(1, 10, 20))"
   ]
  },
  {
   "cell_type": "code",
   "execution_count": 10,
   "id": "6bd6b2fa",
   "metadata": {},
   "outputs": [
    {
     "name": "stdout",
     "output_type": "stream",
     "text": [
      "30\n"
     ]
    }
   ],
   "source": [
    "print(sumDivisibles(1, 10, 2))"
   ]
  },
  {
   "cell_type": "code",
   "execution_count": 12,
   "id": "a4145322",
   "metadata": {},
   "outputs": [
    {
     "name": "stdout",
     "output_type": "stream",
     "text": [
      "18\n"
     ]
    }
   ],
   "source": [
    "print(sumDivisibles(1, 10, 3))"
   ]
  },
  {
   "cell_type": "markdown",
   "id": "099dd6f5",
   "metadata": {},
   "source": [
    "### Question2. Create a function that returns True if a given inequality expression is correct and False otherwise.\n",
    "### Examples\n",
    "### correct_signs(\"3 < 7 < 11\") ➞ True\n",
    "\n",
    "### correct_signs(\"13 > 44 > 33 > 1\") ➞ False\n",
    "\n",
    "### correct_signs(\"1 < 2 < 6 < 9 > 3\") ➞ True\n"
   ]
  },
  {
   "cell_type": "code",
   "execution_count": 13,
   "id": "b7f0490d",
   "metadata": {},
   "outputs": [
    {
     "name": "stdout",
     "output_type": "stream",
     "text": [
      "False\n",
      "False\n",
      "True\n"
     ]
    }
   ],
   "source": [
    "def correct_signs ( xyz ) : \n",
    "    return eval ( xyz )\n",
    "print(correct_signs(\"3 > 7 < 11\"))\n",
    "print(correct_signs(\"13 > 44 > 33 > 1\"))\n",
    "print(correct_signs(\"1 < 2 < 6 < 9 > 3\"))"
   ]
  },
  {
   "cell_type": "markdown",
   "id": "15e6822f",
   "metadata": {},
   "source": [
    "### Question3. Create a function that replaces all the vowels in a string with a specified character.\n",
    "### Examples\n",
    "### replace_vowels(\"the aardvark\", \"#\") ➞ \"th# ##rdv#rk\"\n",
    "\n",
    "### replace_vowels(\"minnie mouse\", \"?\") ➞ \"m?nn?? m??s?\"\n",
    "\n",
    "### replace_vowels(\"shakespeare\", \"*\") ➞ \"sh*k*sp**r*\"\n"
   ]
  },
  {
   "cell_type": "code",
   "execution_count": 18,
   "id": "b6e5baaa",
   "metadata": {},
   "outputs": [],
   "source": [
    "def replace_vowels(str, s):\n",
    "    vowels = 'AEIOUaeiou'\n",
    "    for ele in vowels:  \n",
    "        str = str.replace(ele, s)  \n",
    "    return str\n",
    "  \n"
   ]
  },
  {
   "cell_type": "code",
   "execution_count": 19,
   "id": "243cae4e",
   "metadata": {},
   "outputs": [
    {
     "data": {
      "text/plain": [
       "'th# ##rdv#rk'"
      ]
     },
     "execution_count": 19,
     "metadata": {},
     "output_type": "execute_result"
    }
   ],
   "source": [
    "replace_vowels(\"the aardvark\", \"#\")"
   ]
  },
  {
   "cell_type": "code",
   "execution_count": 20,
   "id": "e4d81ca7",
   "metadata": {},
   "outputs": [
    {
     "data": {
      "text/plain": [
       "'m?nn?? m??s?'"
      ]
     },
     "execution_count": 20,
     "metadata": {},
     "output_type": "execute_result"
    }
   ],
   "source": [
    "replace_vowels(\"minnie mouse\", \"?\")"
   ]
  },
  {
   "cell_type": "code",
   "execution_count": 21,
   "id": "7fafd7da",
   "metadata": {},
   "outputs": [
    {
     "data": {
      "text/plain": [
       "'sh*k*sp**r*'"
      ]
     },
     "execution_count": 21,
     "metadata": {},
     "output_type": "execute_result"
    }
   ],
   "source": [
    "replace_vowels(\"shakespeare\", \"*\")"
   ]
  },
  {
   "cell_type": "markdown",
   "id": "76200622",
   "metadata": {},
   "source": [
    "### Question4. Write a function that calculates the factorial of a number recursively.\n",
    "### Examples\n",
    "### factorial(5) ➞ 120\n",
    "\n",
    "### factorial(3) ➞ 6\n",
    "\n",
    "### factorial(1) ➞ 1\n",
    "\n",
    "### factorial(0) ➞ 1\n"
   ]
  },
  {
   "cell_type": "code",
   "execution_count": 27,
   "id": "82649e98",
   "metadata": {},
   "outputs": [],
   "source": [
    "def factorial(n):     \n",
    "    if n == 0:\n",
    "        return 1    \n",
    "    return n * factorial(n-1)"
   ]
  },
  {
   "cell_type": "code",
   "execution_count": 28,
   "id": "8a07f44d",
   "metadata": {},
   "outputs": [
    {
     "data": {
      "text/plain": [
       "120"
      ]
     },
     "execution_count": 28,
     "metadata": {},
     "output_type": "execute_result"
    }
   ],
   "source": [
    "factorial(5)"
   ]
  },
  {
   "cell_type": "code",
   "execution_count": 29,
   "id": "7c4f0b7f",
   "metadata": {},
   "outputs": [
    {
     "data": {
      "text/plain": [
       "6"
      ]
     },
     "execution_count": 29,
     "metadata": {},
     "output_type": "execute_result"
    }
   ],
   "source": [
    "factorial(3)"
   ]
  },
  {
   "cell_type": "code",
   "execution_count": 30,
   "id": "9a5559f8",
   "metadata": {},
   "outputs": [
    {
     "data": {
      "text/plain": [
       "1"
      ]
     },
     "execution_count": 30,
     "metadata": {},
     "output_type": "execute_result"
    }
   ],
   "source": [
    "factorial(1)"
   ]
  },
  {
   "cell_type": "code",
   "execution_count": 26,
   "id": "fb4f9a16",
   "metadata": {},
   "outputs": [
    {
     "data": {
      "text/plain": [
       "1"
      ]
     },
     "execution_count": 26,
     "metadata": {},
     "output_type": "execute_result"
    }
   ],
   "source": [
    "factorial(0)"
   ]
  },
  {
   "cell_type": "markdown",
   "id": "a958b605",
   "metadata": {},
   "source": [
    "### Question 5\n",
    "### Hamming distance is the number of characters that differ between two strings.\n",
    "### To illustrate:\n",
    "### String1: \"abcbba\"\n",
    "### String2: \"abcbda\"\n",
    "\n",
    "### Hamming Distance: 1 - \"b\" vs. \"d\" is the only difference.\n",
    "### Create a function that computes the hamming distance between two strings.\n",
    "### Examples\n",
    "### hamming_distance(\"abcde\", \"bcdef\") ➞ 5\n",
    "\n",
    "### hamming_distance(\"abcde\", \"abcde\") ➞ 0\n",
    "\n",
    "### hamming_distance(\"strong\", \"strung\") ➞ 1\n"
   ]
  },
  {
   "cell_type": "code",
   "execution_count": 35,
   "id": "8e7e63d0",
   "metadata": {},
   "outputs": [],
   "source": [
    "def hamming_distance(str1, str2):\n",
    "    i = 0\n",
    "    count = 0\n",
    " \n",
    "    while(i < len(str1)):\n",
    "        if(str1[i] != str2[i]):\n",
    "            count += 1\n",
    "        i += 1\n",
    "    return count"
   ]
  },
  {
   "cell_type": "code",
   "execution_count": 36,
   "id": "8bf8fc53",
   "metadata": {},
   "outputs": [
    {
     "data": {
      "text/plain": [
       "5"
      ]
     },
     "execution_count": 36,
     "metadata": {},
     "output_type": "execute_result"
    }
   ],
   "source": [
    "hamming_distance(\"abcde\", \"bcdef\")"
   ]
  },
  {
   "cell_type": "code",
   "execution_count": 37,
   "id": "3d30fcba",
   "metadata": {},
   "outputs": [
    {
     "data": {
      "text/plain": [
       "0"
      ]
     },
     "execution_count": 37,
     "metadata": {},
     "output_type": "execute_result"
    }
   ],
   "source": [
    "hamming_distance(\"abcde\", \"abcde\")"
   ]
  },
  {
   "cell_type": "code",
   "execution_count": 38,
   "id": "7c97b5c0",
   "metadata": {},
   "outputs": [
    {
     "data": {
      "text/plain": [
       "1"
      ]
     },
     "execution_count": 38,
     "metadata": {},
     "output_type": "execute_result"
    }
   ],
   "source": [
    "hamming_distance(\"strong\", \"strung\") "
   ]
  },
  {
   "cell_type": "code",
   "execution_count": null,
   "id": "3ba19f9f",
   "metadata": {},
   "outputs": [],
   "source": []
  }
 ],
 "metadata": {
  "kernelspec": {
   "display_name": "Python 3 (ipykernel)",
   "language": "python",
   "name": "python3"
  },
  "language_info": {
   "codemirror_mode": {
    "name": "ipython",
    "version": 3
   },
   "file_extension": ".py",
   "mimetype": "text/x-python",
   "name": "python",
   "nbconvert_exporter": "python",
   "pygments_lexer": "ipython3",
   "version": "3.9.13"
  }
 },
 "nbformat": 4,
 "nbformat_minor": 5
}
