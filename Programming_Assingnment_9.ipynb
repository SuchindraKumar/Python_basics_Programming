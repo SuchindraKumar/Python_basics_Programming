{
 "cells": [
  {
   "cell_type": "markdown",
   "id": "30f11a24",
   "metadata": {},
   "source": [
    "### 1.\tWrite a Python program to check if the given number is a Disarium Number?"
   ]
  },
  {
   "cell_type": "code",
   "execution_count": 2,
   "id": "6bc0cf35",
   "metadata": {},
   "outputs": [
    {
     "name": "stdout",
     "output_type": "stream",
     "text": [
      "Please Enter A Number : 175\n",
      "175 is a Disarium Number\n"
     ]
    }
   ],
   "source": [
    "def calculateLength(n):    \n",
    "    length = 0;    \n",
    "    while(n != 0):    \n",
    "        length = length + 1;    \n",
    "        n = n//10;    \n",
    "    return length;    \n",
    "     \n",
    "num =int(input(\"Please Enter A Number : \"))    \n",
    "rem = sum = 0;    \n",
    "len = calculateLength(num);    \n",
    "     \n",
    "#Makes a copy of the original number num    \n",
    "n = num;    \n",
    "     \n",
    "#Calculates the sum of digits powered with their respective position    \n",
    "while(num > 0):    \n",
    "    rem = num%10;    \n",
    "    sum = sum + int(rem**len);    \n",
    "    num = num//10;    \n",
    "    len = len - 1;    \n",
    "     \n",
    "#Checks whether the sum is equal to the number itself    \n",
    "if(sum == n):    \n",
    "    print(str(n) + \" is a Disarium Number\");    \n",
    "else:    \n",
    "    print(str(n) + \" is not a Disarium Number\");    "
   ]
  },
  {
   "cell_type": "markdown",
   "id": "c7fb13c6",
   "metadata": {},
   "source": [
    "### 2.\tWrite a Python program to print all disarium numbers between 1 to 100?"
   ]
  },
  {
   "cell_type": "code",
   "execution_count": 3,
   "id": "2e86ad15",
   "metadata": {},
   "outputs": [
    {
     "name": "stdout",
     "output_type": "stream",
     "text": [
      "1\n",
      "2\n",
      "3\n",
      "4\n",
      "5\n",
      "6\n",
      "7\n",
      "8\n",
      "9\n",
      "89\n"
     ]
    }
   ],
   "source": [
    "def calculateLength(n):\n",
    "    length = 0\n",
    "    while n > 0:\n",
    "        n //= 10\n",
    "        length += 1\n",
    "    return length\n",
    "\n",
    "def calculateSum(n):\n",
    "    length = calculateLength(n)\n",
    "    sum = 0\n",
    "    while n > 0:\n",
    "        digit = n % 10\n",
    "        sum += digit ** length\n",
    "        n //= 10\n",
    "        length -= 1\n",
    "    return sum\n",
    "\n",
    "for i in range(1, 101):\n",
    "    if i == calculateSum(i):\n",
    "        print(i)"
   ]
  },
  {
   "cell_type": "markdown",
   "id": "bebf2cdb",
   "metadata": {},
   "source": [
    "### 3.\tWrite a Python program to check if the given number is Happy Number?"
   ]
  },
  {
   "cell_type": "code",
   "execution_count": 2,
   "id": "c57ba2ab",
   "metadata": {},
   "outputs": [
    {
     "name": "stdout",
     "output_type": "stream",
     "text": [
      "Enter a number: 1\n",
      "1  is a Happy Number!!!\n"
     ]
    }
   ],
   "source": [
    "def isHappyNumber(n):    \n",
    "    digit = sum = 0    \n",
    "    while(n > 0):    \n",
    "        digit = n % 10 \n",
    "        sum = sum + (digit * digit)    \n",
    "        n = n // 10   \n",
    "    return sum    \n",
    "        \n",
    "num = int(input(\"Enter a number: \"))    \n",
    "result = num    \n",
    "     \n",
    "while(result != 1 and result != 4):    \n",
    "    result = isHappyNumber(result)   \n",
    "     \n",
    "if(result == 1):    \n",
    "    print(num, \" is a Happy Number!!!\")   \n",
    "else:    \n",
    "    print(num, \" is an Unhappy Number!!!\")"
   ]
  },
  {
   "cell_type": "markdown",
   "id": "536a063a",
   "metadata": {},
   "source": [
    "### 4.\tWrite a Python program to print all happy numbers between 1 and 100?"
   ]
  },
  {
   "cell_type": "code",
   "execution_count": 3,
   "id": "a46c4082",
   "metadata": {},
   "outputs": [
    {
     "name": "stdout",
     "output_type": "stream",
     "text": [
      "1\n",
      "7\n",
      "10\n",
      "13\n",
      "19\n",
      "23\n",
      "28\n",
      "31\n",
      "32\n",
      "44\n",
      "49\n",
      "68\n",
      "70\n",
      "79\n",
      "82\n",
      "86\n",
      "91\n",
      "94\n",
      "97\n",
      "100\n"
     ]
    }
   ],
   "source": [
    "def sumOfDigits(n):\n",
    "    sum = 0\n",
    "    while n > 0:\n",
    "        digit = n % 10\n",
    "        sum += digit * digit\n",
    "        n //= 10\n",
    "    return sum\n",
    "\n",
    "def isHappyNumber(num):\n",
    "    result = num\n",
    "    while result != 1 and result != 4:\n",
    "        result = sumOfDigits(result)\n",
    "    return result == 1\n",
    "\n",
    "for i in range(1, 101):\n",
    "    if isHappyNumber(i):\n",
    "        print(i)"
   ]
  },
  {
   "cell_type": "markdown",
   "id": "f0ea2254",
   "metadata": {},
   "source": [
    "### 5.\tWrite a Python program to determine whether the given number is a Harshad Number"
   ]
  },
  {
   "cell_type": "code",
   "execution_count": 5,
   "id": "d278ebc2",
   "metadata": {},
   "outputs": [
    {
     "name": "stdout",
     "output_type": "stream",
     "text": [
      "Enter a number: 24\n",
      "The number is a Harshad Number\n"
     ]
    }
   ],
   "source": [
    "def isHarshadNumber(n):\n",
    "    sum = 0\n",
    "    temp = n\n",
    "    while temp > 0:\n",
    "        digit = temp % 10\n",
    "        sum += digit\n",
    "        temp //= 10\n",
    "    if n % sum == 0:\n",
    "        return True\n",
    "    else:\n",
    "        return False\n",
    "\n",
    "num = int(input(\"Enter a number: \"))\n",
    "if isHarshadNumber(num):\n",
    "    print(\"The number is a Harshad Number\")\n",
    "else:\n",
    "    print(\"The number is not a Harshad Number\")"
   ]
  },
  {
   "cell_type": "markdown",
   "id": "e3080611",
   "metadata": {},
   "source": [
    "### 6.\tWrite a Python program to print all pronic numbers between 1 and 100?"
   ]
  },
  {
   "cell_type": "code",
   "execution_count": 6,
   "id": "0be30a31",
   "metadata": {},
   "outputs": [
    {
     "name": "stdout",
     "output_type": "stream",
     "text": [
      "2\n",
      "6\n",
      "12\n",
      "20\n",
      "30\n",
      "42\n",
      "56\n",
      "72\n",
      "90\n"
     ]
    }
   ],
   "source": [
    "def isPronicNumber(num):\n",
    "    for i in range(num):\n",
    "        if i * (i + 1) == num:\n",
    "            return True\n",
    "    return False\n",
    "\n",
    "for i in range(1, 101):\n",
    "    if isPronicNumber(i):\n",
    "        print(i)"
   ]
  },
  {
   "cell_type": "code",
   "execution_count": null,
   "id": "54398f16",
   "metadata": {},
   "outputs": [],
   "source": []
  }
 ],
 "metadata": {
  "kernelspec": {
   "display_name": "Python 3 (ipykernel)",
   "language": "python",
   "name": "python3"
  },
  "language_info": {
   "codemirror_mode": {
    "name": "ipython",
    "version": 3
   },
   "file_extension": ".py",
   "mimetype": "text/x-python",
   "name": "python",
   "nbconvert_exporter": "python",
   "pygments_lexer": "ipython3",
   "version": "3.9.13"
  }
 },
 "nbformat": 4,
 "nbformat_minor": 5
}
