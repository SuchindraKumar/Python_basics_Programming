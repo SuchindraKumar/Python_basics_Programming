{
 "cells": [
  {
   "cell_type": "markdown",
   "id": "877dc94c",
   "metadata": {},
   "source": [
    "### 1.\tWrite a Python Program to Display Fibonacci Sequence Using Recursion?"
   ]
  },
  {
   "cell_type": "code",
   "execution_count": 1,
   "id": "fed20e7b",
   "metadata": {},
   "outputs": [
    {
     "name": "stdout",
     "output_type": "stream",
     "text": [
      "How many terms? 10\n",
      "Fibonacci sequence:\n",
      "0\n",
      "1\n",
      "1\n",
      "2\n",
      "3\n",
      "5\n",
      "8\n",
      "13\n",
      "21\n",
      "34\n"
     ]
    }
   ],
   "source": [
    "def recur_fibo(n):\n",
    "    \n",
    "    if n <= 1: \n",
    "        return n \n",
    "    else:\n",
    "        return(recur_fibo(n-1) + recur_fibo(n-2))\n",
    "\n",
    "# take input from the user \n",
    "nterms = int(input(\"How many terms? \"))\n",
    "\n",
    "# check if the number of terms is valid \n",
    "if nterms <= 0: \n",
    "    print(\"Please enter a positive integer\") \n",
    "else: \n",
    "    print(\"Fibonacci sequence:\") \n",
    "    for i in range(nterms): \n",
    "        print(recur_fibo(i))"
   ]
  },
  {
   "cell_type": "markdown",
   "id": "4df25091",
   "metadata": {},
   "source": [
    "### 2.\tWrite a Python Program to Find Factorial of Number Using Recursion?"
   ]
  },
  {
   "cell_type": "code",
   "execution_count": 2,
   "id": "56e0f320",
   "metadata": {},
   "outputs": [
    {
     "name": "stdout",
     "output_type": "stream",
     "text": [
      "Enter a number: 9\n",
      "The factorial of 9 is 362880\n"
     ]
    }
   ],
   "source": [
    "def recur_factorial(n):\n",
    "    if n == 1:\n",
    "        return n\n",
    "    else:\n",
    "        return n*recur_factorial(n-1)\n",
    "\n",
    "# take input from the user\n",
    "num = int(input(\"Enter a number: \"))\n",
    "\n",
    "# check if the number is negative\n",
    "if num < 0:\n",
    "    print(\"Factorial does not exist for negative numbers\")\n",
    "elif num == 0:\n",
    "    print(\"The factorial of 0 is 1\")\n",
    "else:\n",
    "    print(\"The factorial of\", num, \"is\", recur_factorial(num))"
   ]
  },
  {
   "cell_type": "markdown",
   "id": "21556a82",
   "metadata": {},
   "source": [
    "### 3.\tWrite a Python Program to calculate your Body Mass Index?"
   ]
  },
  {
   "cell_type": "code",
   "execution_count": 3,
   "id": "2ec38ba4",
   "metadata": {},
   "outputs": [
    {
     "name": "stdout",
     "output_type": "stream",
     "text": [
      "Enter your weight (in kg): 59\n",
      "Enter your height (in m): 175\n",
      "Your BMI is 0.0019265306122448979\n"
     ]
    }
   ],
   "source": [
    "weight = float(input(\"Enter your weight (in kg): \"))\n",
    "height = float(input(\"Enter your height (in m): \"))\n",
    "\n",
    "# Calculate BMI\n",
    "bmi = weight / (height * height)\n",
    "\n",
    "# Print BMI\n",
    "print(\"Your BMI is\", bmi)"
   ]
  },
  {
   "cell_type": "markdown",
   "id": "1edcf6b4",
   "metadata": {},
   "source": [
    "### 4.\tWrite a Python Program to calculate the natural logarithm of any number?"
   ]
  },
  {
   "cell_type": "code",
   "execution_count": 4,
   "id": "61c03495",
   "metadata": {},
   "outputs": [
    {
     "name": "stdout",
     "output_type": "stream",
     "text": [
      "Enter a number: 5\n",
      "The natural log of 5.0 is 1.6094379124341003\n"
     ]
    }
   ],
   "source": [
    "import math\n",
    "\n",
    "num = float(input(\"Enter a number: \"))\n",
    "\n",
    "# Calculate the natural log\n",
    "result = math.log(num)\n",
    "\n",
    "# Print the result\n",
    "print(\"The natural log of {} is {}\".format(num, result))"
   ]
  },
  {
   "cell_type": "markdown",
   "id": "83496d7a",
   "metadata": {},
   "source": [
    "### 5.\tWrite a Python Program for cube sum of first n natural numbers?"
   ]
  },
  {
   "cell_type": "code",
   "execution_count": 5,
   "id": "14311e1f",
   "metadata": {},
   "outputs": [
    {
     "name": "stdout",
     "output_type": "stream",
     "text": [
      "Enter n: 6\n",
      "Cube sum of first 6 natural numbers: 441\n"
     ]
    }
   ],
   "source": [
    "n = int(input(\"Enter n: \"))\n",
    "\n",
    "# Initialize sum\n",
    "sumVal = 0\n",
    "\n",
    "# Calculate cube sum\n",
    "for i in range(1, n + 1):\n",
    "    sumVal += i**3\n",
    "\n",
    "# Print the result\n",
    "print(\"Cube sum of first\", n, \"natural numbers:\", sumVal)"
   ]
  },
  {
   "cell_type": "code",
   "execution_count": null,
   "id": "e8d71d2a",
   "metadata": {},
   "outputs": [],
   "source": []
  }
 ],
 "metadata": {
  "kernelspec": {
   "display_name": "Python 3 (ipykernel)",
   "language": "python",
   "name": "python3"
  },
  "language_info": {
   "codemirror_mode": {
    "name": "ipython",
    "version": 3
   },
   "file_extension": ".py",
   "mimetype": "text/x-python",
   "name": "python",
   "nbconvert_exporter": "python",
   "pygments_lexer": "ipython3",
   "version": "3.9.13"
  }
 },
 "nbformat": 4,
 "nbformat_minor": 5
}
