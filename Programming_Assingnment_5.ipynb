{
 "cells": [
  {
   "cell_type": "markdown",
   "id": "3f7b101b",
   "metadata": {},
   "source": [
    "### 1.\tWrite a Python Program to Find LCM?"
   ]
  },
  {
   "cell_type": "code",
   "execution_count": 1,
   "id": "8130ebdb",
   "metadata": {},
   "outputs": [
    {
     "name": "stdout",
     "output_type": "stream",
     "text": [
      "Enter first number: 65\n",
      "Enter second number: 78\n",
      "The LCM of 65 and 78 is 390\n"
     ]
    }
   ],
   "source": [
    "num1 = int(input(\"Enter first number: \"))\n",
    "num2 = int(input(\"Enter second number: \"))\n",
    "\n",
    "# Find the greater number\n",
    "if num1 > num2:\n",
    "    greater = num1\n",
    "else:\n",
    "    greater = num2\n",
    "\n",
    "# Initialize the LCM to 1\n",
    "lcm = 1\n",
    "\n",
    "# Loop until LCM is found\n",
    "while True:\n",
    "    if (greater % num1 == 0) and (greater % num2 == 0):\n",
    "        lcm = greater\n",
    "        break\n",
    "    greater += 1\n",
    "\n",
    "# Print the LCM\n",
    "print(\"The LCM of {} and {} is {}\".format(num1, num2, lcm))"
   ]
  },
  {
   "cell_type": "markdown",
   "id": "58d10603",
   "metadata": {},
   "source": [
    "### 2.\tWrite a Python Program to Find HCF?"
   ]
  },
  {
   "cell_type": "code",
   "execution_count": 2,
   "id": "51fc8a74",
   "metadata": {},
   "outputs": [
    {
     "name": "stdout",
     "output_type": "stream",
     "text": [
      "Enter first number: 65\n",
      "Enter second number: 78\n",
      "The HCF of 65 and 78 is 13\n"
     ]
    }
   ],
   "source": [
    "num1 = int(input(\"Enter first number: \"))\n",
    "num2 = int(input(\"Enter second number: \"))\n",
    "\n",
    "# Find the greater number\n",
    "if num1 > num2:\n",
    "    greater = num1\n",
    "else:\n",
    "    greater = num2\n",
    "\n",
    "# Initialize the HCF to 1\n",
    "hcf = 1\n",
    "\n",
    "# Loop until HCF is found\n",
    "for i in range(1, greater+1):\n",
    "    if (num1 % i == 0) and (num2 % i == 0):\n",
    "        hcf = i\n",
    "\n",
    "# Print the HCF\n",
    "print(\"The HCF of {} and {} is {}\".format(num1, num2, hcf))"
   ]
  },
  {
   "cell_type": "markdown",
   "id": "feb9299d",
   "metadata": {},
   "source": [
    "### 3.\tWrite a Python Program to Convert Decimal to Binary, Octal and Hexadecimal?"
   ]
  },
  {
   "cell_type": "code",
   "execution_count": 4,
   "id": "bbeb08ce",
   "metadata": {},
   "outputs": [
    {
     "name": "stdout",
     "output_type": "stream",
     "text": [
      "Enter a decimal number: 14\n",
      "Binary: 0b1110\n",
      "Octal: 0o16\n",
      "Hexadecimal: 0xe\n"
     ]
    }
   ],
   "source": [
    "dec = int(input(\"Enter a decimal number: \"))\n",
    "\n",
    "# Convert decimal to binary\n",
    "binary = bin(dec)\n",
    "print(f\"Binary: {binary}\")\n",
    "\n",
    "# Convert decimal to octal\n",
    "octal = oct(dec)\n",
    "print(f\"Octal: {octal}\")\n",
    "\n",
    "# Convert decimal to hexadecimal\n",
    "hexadecimal = hex(dec)\n",
    "print(f\"Hexadecimal: {hexadecimal}\")"
   ]
  },
  {
   "cell_type": "markdown",
   "id": "16917d10",
   "metadata": {},
   "source": [
    "### 4.\tWrite a Python Program To Find ASCII value of a character?"
   ]
  },
  {
   "cell_type": "code",
   "execution_count": 7,
   "id": "01f274bd",
   "metadata": {},
   "outputs": [
    {
     "name": "stdout",
     "output_type": "stream",
     "text": [
      "Enter a character: A\n",
      "The ASCII value of A is 65\n"
     ]
    }
   ],
   "source": [
    "char = input(\"Enter a character: \")\n",
    "\n",
    "# Find ASCII value of character\n",
    "ascii_val = ord(char)\n",
    "\n",
    "# Print the ASCII value\n",
    "print(\"The ASCII value of {} is {}\".format(char, ascii_val))"
   ]
  },
  {
   "cell_type": "markdown",
   "id": "7de80783",
   "metadata": {},
   "source": [
    "### 5.\tWrite a Python Program to Make a Simple Calculator with 4 basic mathematical operations?"
   ]
  },
  {
   "cell_type": "code",
   "execution_count": 8,
   "id": "616005d4",
   "metadata": {},
   "outputs": [
    {
     "name": "stdout",
     "output_type": "stream",
     "text": [
      "Enter first number: 20\n",
      "Enter second number: 10\n",
      "Sum: 30\n",
      "Difference: 10\n",
      "Product: 200\n",
      "Quotient: 2.0\n"
     ]
    }
   ],
   "source": [
    "num1 = int(input(\"Enter first number: \"))\n",
    "num2 = int(input(\"Enter second number: \"))\n",
    "\n",
    "# Calculate sum\n",
    "sum = num1 + num2\n",
    "\n",
    "# Calculate difference\n",
    "difference = num1 - num2\n",
    "\n",
    "# Calculate product\n",
    "product = num1 * num2\n",
    "\n",
    "# Calculate quotient\n",
    "quotient = num1 / num2\n",
    "\n",
    "# Print the results\n",
    "print(\"Sum:\", sum)\n",
    "print(\"Difference:\", difference)\n",
    "print(\"Product:\", product)\n",
    "print(\"Quotient:\", quotient)"
   ]
  },
  {
   "cell_type": "code",
   "execution_count": null,
   "id": "07bd4af7",
   "metadata": {},
   "outputs": [],
   "source": []
  }
 ],
 "metadata": {
  "kernelspec": {
   "display_name": "Python 3 (ipykernel)",
   "language": "python",
   "name": "python3"
  },
  "language_info": {
   "codemirror_mode": {
    "name": "ipython",
    "version": 3
   },
   "file_extension": ".py",
   "mimetype": "text/x-python",
   "name": "python",
   "nbconvert_exporter": "python",
   "pygments_lexer": "ipython3",
   "version": "3.9.13"
  }
 },
 "nbformat": 4,
 "nbformat_minor": 5
}
